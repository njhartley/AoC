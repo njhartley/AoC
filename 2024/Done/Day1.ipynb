{
 "cells": [
  {
   "cell_type": "code",
   "execution_count": 1,
   "id": "fc683f68-c7d8-4769-8425-acce0a75769d",
   "metadata": {},
   "outputs": [],
   "source": [
    "import numpy as np"
   ]
  },
  {
   "cell_type": "code",
   "execution_count": 32,
   "id": "9960ef91-5e6d-4fc3-988b-62e439cdbdec",
   "metadata": {},
   "outputs": [],
   "source": [
    "dat = np.loadtxt(\"Day1.txt\").T"
   ]
  },
  {
   "cell_type": "code",
   "execution_count": 24,
   "id": "e097680b-5e24-4fde-8aa7-751e25607cd5",
   "metadata": {},
   "outputs": [
    {
     "data": {
      "text/plain": [
       "2031679.0"
      ]
     },
     "execution_count": 24,
     "metadata": {},
     "output_type": "execute_result"
    }
   ],
   "source": [
    "dr = np.sort(dat[1]) - np.sort(dat[0])\n",
    "np.sum(np.abs(dr))"
   ]
  },
  {
   "cell_type": "code",
   "execution_count": 33,
   "id": "2c4dcce7-05df-4b65-bf68-7682b1ad8a14",
   "metadata": {},
   "outputs": [],
   "source": [
    "list_l = dat[0]\n",
    "list_r = dat[1]"
   ]
  },
  {
   "cell_type": "code",
   "execution_count": 34,
   "id": "80e3a763-29dd-4d21-98c2-c586b3eeba9e",
   "metadata": {},
   "outputs": [],
   "source": [
    "tot = 0\n",
    "for itm in list_l:\n",
    "    N = len(np.where(list_r==itm)[0])\n",
    "    tot += (itm*N)"
   ]
  },
  {
   "cell_type": "code",
   "execution_count": 35,
   "id": "8ed57dc0-9cf3-4d88-b0c1-3b99f8c5b1dc",
   "metadata": {},
   "outputs": [
    {
     "name": "stdout",
     "output_type": "stream",
     "text": [
      "19678534.0\n"
     ]
    }
   ],
   "source": [
    "print(tot)"
   ]
  },
  {
   "cell_type": "code",
   "execution_count": null,
   "id": "2ba900a6-f5d8-4bcf-8ad4-47e6823b9703",
   "metadata": {},
   "outputs": [],
   "source": []
  }
 ],
 "metadata": {
  "kernelspec": {
   "display_name": "Python 3 (ipykernel)",
   "language": "python",
   "name": "python3"
  },
  "language_info": {
   "codemirror_mode": {
    "name": "ipython",
    "version": 3
   },
   "file_extension": ".py",
   "mimetype": "text/x-python",
   "name": "python",
   "nbconvert_exporter": "python",
   "pygments_lexer": "ipython3",
   "version": "3.9.5"
  }
 },
 "nbformat": 4,
 "nbformat_minor": 5
}
