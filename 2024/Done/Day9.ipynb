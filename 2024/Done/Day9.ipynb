{
 "cells": [
  {
   "cell_type": "code",
   "execution_count": 1,
   "id": "99d4eedf-7733-4979-a694-a3f47a32377d",
   "metadata": {},
   "outputs": [],
   "source": [
    "import numpy as np\n",
    "from time import time\n",
    "from tqdm import tqdm\n",
    "import itertools"
   ]
  },
  {
   "cell_type": "code",
   "execution_count": 2,
   "id": "8617d7ef-6f5e-48b2-8b19-754ad713981f",
   "metadata": {},
   "outputs": [],
   "source": [
    "f = open(\"Day9_test.txt\")\n",
    "f = open(\"Day9.txt\")\n",
    "dat = []\n",
    "\n",
    "for line in f.readlines(): \n",
    "    dat.append(list(line.strip()))\n",
    "dat = list(np.array(dat[0],dtype=int))\n",
    "#dat = np.array(dat[0])\n",
    "# xmax = dat.shape[0]\n",
    "# ymax = dat.shape[1]\n",
    "xmax = len(dat)"
   ]
  },
  {
   "cell_type": "code",
   "execution_count": 3,
   "id": "2b621272-50a6-466b-b4b6-cecf408dbe6b",
   "metadata": {},
   "outputs": [],
   "source": [
    "# dat"
   ]
  },
  {
   "cell_type": "markdown",
   "id": "7198defb-3547-4c93-98c8-2e795757852e",
   "metadata": {
    "jp-MarkdownHeadingCollapsed": true
   },
   "source": [
    "### Part 1"
   ]
  },
  {
   "cell_type": "code",
   "execution_count": 131,
   "id": "55f5e9d6-243f-4128-8c03-4bf1240d04f6",
   "metadata": {},
   "outputs": [],
   "source": [
    "## Create current space distribution\n",
    "idno=0\n",
    "space=[]\n",
    "for i,ele in enumerate(dat):\n",
    "    if i%2==0:\n",
    "        space = space + int(ele)*[str(idno)]\n",
    "        idno += 1\n",
    "    else:\n",
    "        space = space + int(ele) * ['.']\n",
    "#print(space)"
   ]
  },
  {
   "cell_type": "code",
   "execution_count": 87,
   "id": "d6627a61-515d-4b41-965b-2ba61d96a85e",
   "metadata": {},
   "outputs": [],
   "source": [
    "# tomove = space.remove('.')\n",
    "# tomove = [item for item in space if item!='.' ][::-1]\n",
    "                      \n",
    "# for item in space:\n",
    "#     if item=='.':\n",
    "\n",
    "i=0\n",
    "j=1\n",
    "\n",
    "space_reorg = space.copy()\n",
    "\n",
    "#print(space)\n",
    "\n",
    "while (i+j)<len(space):\n",
    "    item1 = space_reorg[i]\n",
    "    item2 = space_reorg[-j]\n",
    "    #print(i,j,item1,item2)\n",
    "    if item1=='.':\n",
    "        if item2!='.':\n",
    "            #print('swap')\n",
    "            space_reorg[i] = item2\n",
    "            space_reorg[-j] = item1\n",
    "        else:\n",
    "            j+=1\n",
    "    else:\n",
    "        i += 1\n",
    "    \n",
    "#print(space_reorg)        "
   ]
  },
  {
   "cell_type": "code",
   "execution_count": 88,
   "id": "7ac8d3a3-49bc-4a9b-a42b-0b3dbe3a680a",
   "metadata": {},
   "outputs": [
    {
     "name": "stdout",
     "output_type": "stream",
     "text": [
      "1928\n"
     ]
    }
   ],
   "source": [
    "tot = 0\n",
    "for n,ele in enumerate(space_reorg):\n",
    "    if ele=='.':\n",
    "        break\n",
    "    tot += n*int(ele)\n",
    "print(tot)"
   ]
  },
  {
   "cell_type": "markdown",
   "id": "aa04275f-a937-43b8-a933-986390cc163c",
   "metadata": {},
   "source": [
    "### Part 2"
   ]
  },
  {
   "cell_type": "code",
   "execution_count": 4,
   "id": "37f0a5aa-fb7d-4c06-b5eb-d5f1a265c6c7",
   "metadata": {},
   "outputs": [],
   "source": [
    "## Create current space distribution\n",
    "idno=0\n",
    "ids = []\n",
    "\n",
    "for i,ele in enumerate(dat):\n",
    "    if i%2==0:\n",
    "        ids.append(idno)\n",
    "        idno += 1\n",
    "    else:\n",
    "        ids.append('.')"
   ]
  },
  {
   "cell_type": "code",
   "execution_count": 5,
   "id": "aaa8f147-c539-4a83-9858-dedefe089890",
   "metadata": {},
   "outputs": [],
   "source": [
    "# print(dat)\n",
    "# print(ids)"
   ]
  },
  {
   "cell_type": "code",
   "execution_count": 17,
   "id": "db8b654b-7167-484a-bcbe-c6848f9497cb",
   "metadata": {},
   "outputs": [],
   "source": [
    "dat0 = dat.copy()\n",
    "ids0 = ids.copy()\n",
    "\n",
    "# dat1 = dat.copy()\n",
    "# ids1 = ids.copy()\n",
    "\n",
    "#print(dat0)\n",
    "#print(ids0)\n",
    "\n",
    "i=0\n",
    "while i<xmax:\n",
    "    start = 1\n",
    "    #print(i)\n",
    "    for i in np.arange(start,len(dat0)):\n",
    "        #print(i)\n",
    "        if ids0[-i]!='.':\n",
    "            #print(ids0[-i],dat0[-i])\n",
    "            try:\n",
    "                ## Find space (if available)\n",
    "                arg = np.where((np.array(dat0)>=dat0[-i]) * (np.array(ids0)=='.'))[0][0]\n",
    "                if arg<(xmax-i):\n",
    "                    #print(\"Move to position %d\"%arg)\n",
    "                    ## Move data to space\n",
    "                    dat0.insert(arg,dat0[-i])\n",
    "                    ids0.insert(arg,ids0[-i])\n",
    "                    ## Remove data from original spot\n",
    "                    ids0[-i]='.'\n",
    "                    dat0[arg+1] -= dat0[-i]\n",
    "                    #print(dat0)\n",
    "                    #print(ids0)\n",
    "                    #print(\"%d/%d\"%(i,xmax))\n",
    "                    start=i+1\n",
    "                    break\n",
    "            except:\n",
    "                pass\n",
    "                #print('No move')\n",
    "    #break\n",
    "    "
   ]
  },
  {
   "cell_type": "code",
   "execution_count": 18,
   "id": "7edaddf5-dd1f-4826-b5bf-796d29ed25b7",
   "metadata": {},
   "outputs": [],
   "source": [
    "# print(dat0[:50])\n",
    "# print(ids0[:50])"
   ]
  },
  {
   "cell_type": "code",
   "execution_count": 19,
   "id": "0a0e4a3e-bab9-4467-ad27-fba11fb3170d",
   "metadata": {},
   "outputs": [],
   "source": [
    "# print(dat[:50])\n",
    "# print(ids[:50])"
   ]
  },
  {
   "cell_type": "code",
   "execution_count": 20,
   "id": "321716c5-0709-4c2e-8633-87525a01d304",
   "metadata": {},
   "outputs": [],
   "source": [
    "## Create final space distribution\n",
    "space_pt2=[]\n",
    "\n",
    "for i,(dd,ii) in enumerate(zip(dat0,ids0)):\n",
    "    space_pt2 = space_pt2 + int(dd) * [ii]"
   ]
  },
  {
   "cell_type": "code",
   "execution_count": 21,
   "id": "17803619-8637-4620-92d8-67e6e3efe5fe",
   "metadata": {},
   "outputs": [
    {
     "name": "stdout",
     "output_type": "stream",
     "text": [
      "6737276671143\n"
     ]
    }
   ],
   "source": [
    "tot_pt2 = 0\n",
    "for n,ele in enumerate(space_pt2):\n",
    "    if ele!='.':\n",
    "        tot_pt2 += n*int(ele)\n",
    "print(tot_pt2)\n",
    "# 6737276671143 - too high\n",
    "# 6511178035564"
   ]
  },
  {
   "cell_type": "markdown",
   "id": "23368f01-df00-4b41-a152-1155fa1bce1b",
   "metadata": {},
   "source": [
    "### Part 2 - cheating"
   ]
  },
  {
   "cell_type": "code",
   "execution_count": 22,
   "id": "19a3192f-fd7d-4105-bebb-26ccff2f6857",
   "metadata": {},
   "outputs": [
    {
     "name": "stdout",
     "output_type": "stream",
     "text": [
      "Result: 6511178035564\n"
     ]
    }
   ],
   "source": [
    "import re\n",
    "import itertools\n",
    "\n",
    "def find_gap_length(disk_map, start_idx):\n",
    "    gap_length = 1\n",
    "    next_digit = None\n",
    "    while next_digit is None and start_idx+gap_length <= len(disk_map)-1:\n",
    "        next_digit = disk_map[start_idx+gap_length]\n",
    "        if next_digit is None:\n",
    "            gap_length += 1\n",
    "    return gap_length\n",
    "\n",
    "with open('./Day9.txt') as f:\n",
    "    number_sequence = f.read().strip()\n",
    "\n",
    "## Generates initial disk map\n",
    "disk_map = []\n",
    "current_id = 0\n",
    "is_file = True\n",
    "for number_str in number_sequence:\n",
    "    number = int(number_str)\n",
    "    if is_file:\n",
    "        disk_map.extend([current_id] * number)\n",
    "        current_id += 1\n",
    "    else:\n",
    "        disk_map.extend([None] * number)\n",
    "    is_file = not is_file\n",
    "\n",
    "for last_number in range(max(filter(lambda x: x is not None, disk_map)), 0, -1):\n",
    "    last_number_len = disk_map.count(last_number)\n",
    "\n",
    "    gap_idx = disk_map.index(None)\n",
    "    while gap_idx < disk_map.index(last_number):\n",
    "        gap_len = find_gap_length(disk_map, gap_idx)\n",
    "        if gap_len < last_number_len:\n",
    "            gap_idx = disk_map.index(None, gap_idx+gap_len)\n",
    "        else:\n",
    "            while last_number in disk_map:\n",
    "                disk_map[disk_map.index(last_number)] = None\n",
    "            for n in range(last_number_len):\n",
    "                disk_map[gap_idx+n] = last_number            \n",
    "            break\n",
    "\n",
    "total = 0\n",
    "\n",
    "for idx, item in enumerate(disk_map):\n",
    "    if item is not None:\n",
    "        total += item * idx\n",
    "\n",
    "print(\"Result:\", total)"
   ]
  },
  {
   "cell_type": "code",
   "execution_count": null,
   "id": "6e0bf4b3-2802-4017-8369-9954d84c0290",
   "metadata": {},
   "outputs": [],
   "source": []
  },
  {
   "cell_type": "code",
   "execution_count": null,
   "id": "5ebf912c-974a-4549-a6b5-06fa6a24399b",
   "metadata": {},
   "outputs": [],
   "source": []
  },
  {
   "cell_type": "code",
   "execution_count": null,
   "id": "7d0a77c6-ebc5-4c02-b6cc-5da3ee456fd1",
   "metadata": {},
   "outputs": [],
   "source": []
  },
  {
   "cell_type": "code",
   "execution_count": null,
   "id": "a387ea06-55f9-4621-83d1-2603d71df03f",
   "metadata": {},
   "outputs": [],
   "source": [
    "# Importing\n",
    "\n",
    "import pandas as pd\n",
    "import re\n",
    "import numpy as np\n",
    "\n",
    "# Input\n",
    "\n",
    "with open(\"day-4/day-4-input.csv\", \"r\") as f:\n",
    "    input_file = [line.strip() for line in f.readlines() ]\n",
    "input_file = [list(line) for line in input_file]\n",
    "input_file = np.array(input_file)\n",
    "input_file_rot = np.rot90(input_file, k=1)\n",
    "input_file_tr = np.transpose(input_file)"
   ]
  }
 ],
 "metadata": {
  "kernelspec": {
   "display_name": "Python 3 (ipykernel)",
   "language": "python",
   "name": "python3"
  },
  "language_info": {
   "codemirror_mode": {
    "name": "ipython",
    "version": 3
   },
   "file_extension": ".py",
   "mimetype": "text/x-python",
   "name": "python",
   "nbconvert_exporter": "python",
   "pygments_lexer": "ipython3",
   "version": "3.9.5"
  }
 },
 "nbformat": 4,
 "nbformat_minor": 5
}
