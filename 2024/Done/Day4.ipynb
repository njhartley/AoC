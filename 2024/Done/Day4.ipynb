{
 "cells": [
  {
   "cell_type": "code",
   "execution_count": 1,
   "id": "99d4eedf-7733-4979-a694-a3f47a32377d",
   "metadata": {},
   "outputs": [],
   "source": [
    "import numpy as np"
   ]
  },
  {
   "cell_type": "code",
   "execution_count": 116,
   "id": "8617d7ef-6f5e-48b2-8b19-754ad713981f",
   "metadata": {},
   "outputs": [],
   "source": [
    "f = open(\"Day4_test.txt\")\n",
    "f = open(\"Day4.txt\")\n",
    "dat = []\n",
    "for line in f.readlines():\n",
    "    dat.append(line.strip())\n",
    "#print(dat)"
   ]
  },
  {
   "cell_type": "code",
   "execution_count": 117,
   "id": "4b46cb9a-8aa4-49ba-ac39-eaf663207fbb",
   "metadata": {},
   "outputs": [
    {
     "name": "stdout",
     "output_type": "stream",
     "text": [
      "140 140\n"
     ]
    }
   ],
   "source": [
    "xlim = len(dat[0])\n",
    "ylim = len(dat)\n",
    "print(xlim,ylim)"
   ]
  },
  {
   "cell_type": "markdown",
   "id": "7198defb-3547-4c93-98c8-2e795757852e",
   "metadata": {},
   "source": [
    "### Part 1"
   ]
  },
  {
   "cell_type": "code",
   "execution_count": 33,
   "id": "16bad814-484e-45f9-939b-d9bd8c430803",
   "metadata": {},
   "outputs": [],
   "source": [
    "drns = [(1,0),(1,1),(0,1),(-1,1),(-1,0),(-1,-1),(0,-1),(1,-1)]"
   ]
  },
  {
   "cell_type": "code",
   "execution_count": 34,
   "id": "78333a46-6cf5-4456-bad9-5bf078f09c06",
   "metadata": {},
   "outputs": [
    {
     "name": "stdout",
     "output_type": "stream",
     "text": [
      "2551\n"
     ]
    }
   ],
   "source": [
    "tot = 0\n",
    "\n",
    "## Loop over all initial positions\n",
    "for ix in range(xlim):\n",
    "    for iy in range(ylim):\n",
    "        ## Analyze cases where letter is X\n",
    "        char = dat[ix][iy]\n",
    "        if char=='X':\n",
    "            for dir in drns:\n",
    "                ## Skip cases that go outside the square\n",
    "                lim = (ix,iy)+3*np.array(dir)\n",
    "                if lim.max()>(xlim-1) or lim.min()<0:\n",
    "                    continue\n",
    "                else:\n",
    "                    str = char + \\\n",
    "                        dat[ix+dir[0]][iy+dir[1]] +\\\n",
    "                        dat[ix+2*dir[0]][iy+2*dir[1]] +\\\n",
    "                        dat[ix+3*dir[0]][iy+3*dir[1]]\n",
    "                    if str=='XMAS':\n",
    "                        tot += 1\n",
    "print(tot)"
   ]
  },
  {
   "cell_type": "markdown",
   "id": "aa04275f-a937-43b8-a933-986390cc163c",
   "metadata": {},
   "source": [
    "### Part 2"
   ]
  },
  {
   "cell_type": "code",
   "execution_count": 84,
   "id": "0936f813-1040-48b4-878e-c97247998368",
   "metadata": {},
   "outputs": [],
   "source": [
    "#drns = [(1,0),(1,1),(0,1),(-1,1),(-1,0),(-1,-1),(0,-1),(1,-1)]\n",
    "dirs1 = [ (1,0), (1,1)]\n",
    "dirs2 = [ (0,1), (1,-1)]\n",
    "\n",
    "\n",
    "print(dat[87][87:89])"
   ]
  },
  {
   "cell_type": "code",
   "execution_count": 129,
   "id": "52abf583-8c2f-4e5f-8449-1bd5f2b89d1c",
   "metadata": {},
   "outputs": [
    {
     "name": "stdout",
     "output_type": "stream",
     "text": [
      "MSSMXS\n",
      "AXSAMX\n",
      "SMXSAM\n",
      "MMAXMM\n"
     ]
    }
   ],
   "source": [
    "xt = 1\n",
    "yt = 88\n",
    "print(dat[xt-1][yt-3:yt+3])\n",
    "print(dat[xt-0][yt-3:yt+3])\n",
    "print(dat[xt+1][yt-3:yt+3])\n",
    "print(dat[xt+2][yt-3:yt+3])"
   ]
  },
  {
   "cell_type": "code",
   "execution_count": 130,
   "id": "1e802d72-7ecd-4c7c-8fa4-dd02ca2e256d",
   "metadata": {},
   "outputs": [
    {
     "name": "stdout",
     "output_type": "stream",
     "text": [
      "2010\n"
     ]
    }
   ],
   "source": [
    "tot = 0\n",
    "\n",
    "## Loop over all initial positions\n",
    "for ix in range(xlim):\n",
    "    for iy in range(ylim):\n",
    "        ## Analyze cases where letter is A (center of cross)\n",
    "        char = dat[ix][iy]\n",
    "        if char=='A':\n",
    "            ## Skip cases near edge\n",
    "            if (min(ix,iy)<1) or (max(ix,iy)>(xlim-2)):\n",
    "                continue\n",
    "            else:\n",
    "                for (d1,d2) in zip(dirs1,dirs2):\n",
    "                    str1 = dat[ix-d1[0]][iy-d1[1]] + dat[ix][iy] + dat[ix+d1[0]][iy+d1[1]]\n",
    "                    str2 = dat[ix-d2[0]][iy-d2[1]] + dat[ix][iy] + dat[ix+d2[0]][iy+d2[1]]\n",
    "                    #print(ix,iy,str1,str2)\n",
    "                    if str1=='MAS' or str1=='SAM':\n",
    "                        if str2=='MAS' or str2=='SAM':\n",
    "                            #print(ix,iy,str1,str2)\n",
    "                            tot+=1\n",
    "\n",
    "print(tot)\n",
    "# 2010 - too high"
   ]
  },
  {
   "cell_type": "code",
   "execution_count": 132,
   "id": "116e441a-0660-4967-92a0-7e939063a1f2",
   "metadata": {},
   "outputs": [],
   "source": [
    "drns = [(1,1),(-1,-1)]#,(0,-1),(1,-1),(0,1),(-1,1)]"
   ]
  },
  {
   "cell_type": "code",
   "execution_count": 133,
   "id": "52f6bef8-803e-49de-8277-432eaff0e01a",
   "metadata": {},
   "outputs": [
    {
     "name": "stdout",
     "output_type": "stream",
     "text": [
      "1985\n"
     ]
    }
   ],
   "source": [
    "tot = 0\n",
    "\n",
    "## Loop over all initial positions\n",
    "for ix in np.arange(1,xlim-1):\n",
    "    for iy in np.arange(1,ylim-1):\n",
    "        ## Analyze cases where letter is A (center of cross)\n",
    "        char = dat[ix][iy]\n",
    "        if char=='A':\n",
    "            for dir in drns:\n",
    "                dir_ra = [-1*dir[1],1*dir[0]]\n",
    "\n",
    "                str = dat[ix-dir[0]][iy-dir[1]] + char + \\\n",
    "                        dat[ix+dir[0]][iy+dir[1]]\n",
    "                if str=='MAS':\n",
    "                    dir_ra = (-1*dir[1],1*dir[0])\n",
    "                    str2 = dat[ix-dir_ra[0]][iy-dir_ra[1]] + char + \\\n",
    "                        dat[ix+dir_ra[0]][iy+dir_ra[1]]\n",
    "                    if str2=='MAS' or str2=='SAM':\n",
    "                        tot += 1\n",
    "print(tot)            "
   ]
  },
  {
   "cell_type": "code",
   "execution_count": null,
   "id": "bd960a05-1c3a-4358-9de5-01f401ac2cf4",
   "metadata": {},
   "outputs": [],
   "source": []
  },
  {
   "cell_type": "code",
   "execution_count": null,
   "id": "a387ea06-55f9-4621-83d1-2603d71df03f",
   "metadata": {},
   "outputs": [],
   "source": [
    "# Importing\n",
    "\n",
    "import pandas as pd\n",
    "import re\n",
    "import numpy as np\n",
    "\n",
    "# Input\n",
    "\n",
    "with open(\"day-4/day-4-input.csv\", \"r\") as f:\n",
    "    input_file = [line.strip() for line in f.readlines() ]\n",
    "input_file = [list(line) for line in input_file]\n",
    "input_file = np.array(input_file)\n",
    "input_file_rot = np.rot90(input_file, k=1)\n",
    "input_file_tr = np.transpose(input_file)"
   ]
  },
  {
   "cell_type": "code",
   "execution_count": null,
   "id": "520d80d9-85ca-4314-ad56-d4b79eb5e294",
   "metadata": {},
   "outputs": [],
   "source": [
    "# Part 2\n",
    "\n",
    "solution_part2 = 0\n",
    "\n",
    "match_inds = np.where(input_file == \"A\")\n",
    "match_inds_num = list(zip(*match_inds))\n",
    "match_vals = input_file[match_inds]\n",
    "\n",
    "for val1, val2 in match_inds_num:\n",
    "    if (val1 > 0 and val1 < input_file.shape[0]-1) and (val2 > 0 and val2 < input_file.shape[1]-1):\n",
    "        diag1 = input_file[val1-1, val2-1] + \"A\" + input_file[val1+1, val2+1]\n",
    "        diag2 = input_file[val1+1, val2-1] + \"A\" + input_file[val1-1, val2+1]\n",
    "        if (diag1 == \"MAS\" or diag1 == \"SAM\") and (diag2 == \"MAS\" or diag2 == \"SAM\"):\n",
    "            solution_part2 += 1\n",
    "\n",
    "print(f\"Part2: {solution_part2}\")"
   ]
  }
 ],
 "metadata": {
  "kernelspec": {
   "display_name": "Python 3 (ipykernel)",
   "language": "python",
   "name": "python3"
  },
  "language_info": {
   "codemirror_mode": {
    "name": "ipython",
    "version": 3
   },
   "file_extension": ".py",
   "mimetype": "text/x-python",
   "name": "python",
   "nbconvert_exporter": "python",
   "pygments_lexer": "ipython3",
   "version": "3.9.5"
  }
 },
 "nbformat": 4,
 "nbformat_minor": 5
}
