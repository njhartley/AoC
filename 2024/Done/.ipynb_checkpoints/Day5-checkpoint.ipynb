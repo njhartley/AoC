{
 "cells": [
  {
   "cell_type": "code",
   "execution_count": 2,
   "id": "99d4eedf-7733-4979-a694-a3f47a32377d",
   "metadata": {},
   "outputs": [],
   "source": [
    "import numpy as np"
   ]
  },
  {
   "cell_type": "code",
   "execution_count": 77,
   "id": "8617d7ef-6f5e-48b2-8b19-754ad713981f",
   "metadata": {},
   "outputs": [],
   "source": [
    "f = open(\"Day5_test.txt\")\n",
    "f = open(\"Day5.txt\")\n",
    "rules = []; dat = []\n",
    "dat_bool = False\n",
    "\n",
    "for line in f.readlines(): \n",
    "    if line=='\\n':\n",
    "        dat_bool = True\n",
    "        continue\n",
    "    if dat_bool:\n",
    "        dat.append(line.strip())\n",
    "    else:\n",
    "        rules.append(line.strip())\n",
    "    "
   ]
  },
  {
   "cell_type": "code",
   "execution_count": 78,
   "id": "2b621272-50a6-466b-b4b6-cecf408dbe6b",
   "metadata": {},
   "outputs": [],
   "source": [
    "# print(dat)\n",
    "# print(rules)"
   ]
  },
  {
   "cell_type": "markdown",
   "id": "7198defb-3547-4c93-98c8-2e795757852e",
   "metadata": {},
   "source": [
    "### Part 1"
   ]
  },
  {
   "cell_type": "code",
   "execution_count": 79,
   "id": "7172adaf-112d-4b38-b72a-9b06c1d13ac2",
   "metadata": {},
   "outputs": [
    {
     "name": "stdout",
     "output_type": "stream",
     "text": [
      "4766\n"
     ]
    }
   ],
   "source": [
    "tot = 0\n",
    "wrong = []\n",
    "\n",
    "for i,seq in enumerate(dat):\n",
    "    arr = np.array(seq.split(','),dtype=int)\n",
    "    obeys = True\n",
    "    \n",
    "    for rule in rules:\n",
    "        vals = np.array(rule.split('|'),dtype=int)\n",
    "        if (vals[0] in arr) and (vals[1] in arr):\n",
    "            i0 = np.argwhere(arr==vals[0])[0]\n",
    "            i1 = np.argwhere(arr==vals[1])[0]\n",
    "            if i0>i1:\n",
    "                obeys=False\n",
    "                wrong.append(i)\n",
    "                #print(rule)\n",
    "                break\n",
    "    #print(seq,obeys)\n",
    "    if obeys:\n",
    "        idx = int(0.5*(len(arr) - 1) )\n",
    "        tot += arr[idx]\n",
    "print(tot)"
   ]
  },
  {
   "cell_type": "code",
   "execution_count": 80,
   "id": "1fdb1e6c-2c0e-4a8b-91f2-d0c181982f44",
   "metadata": {},
   "outputs": [
    {
     "name": "stdout",
     "output_type": "stream",
     "text": [
      "[0, 1, 3, 6, 12, 18, 19, 20, 21, 22, 24, 31, 33, 35, 36, 42, 43, 47, 48, 49, 52, 53, 55, 56, 57, 58, 61, 62, 63, 67, 68, 69, 70, 71, 72, 74, 75, 77, 78, 79, 80, 81, 82, 85, 88, 89, 90, 91, 93, 95, 98, 100, 101, 102, 103, 104, 105, 106, 107, 108, 109, 110, 111, 113, 114, 116, 120, 123, 125, 127, 130, 131, 132, 133, 134, 136, 137, 138, 139, 141, 142, 145, 147, 149, 150, 151, 154, 155, 156, 158, 159, 162, 163, 166, 167, 172, 175, 177, 179, 180, 181, 185, 187, 189, 190, 191, 192, 193, 194, 195, 198]\n"
     ]
    }
   ],
   "source": [
    "print(wrong)"
   ]
  },
  {
   "cell_type": "markdown",
   "id": "aa04275f-a937-43b8-a933-986390cc163c",
   "metadata": {},
   "source": [
    "### Part 2"
   ]
  },
  {
   "cell_type": "code",
   "execution_count": 83,
   "id": "bd960a05-1c3a-4358-9de5-01f401ac2cf4",
   "metadata": {},
   "outputs": [
    {
     "name": "stdout",
     "output_type": "stream",
     "text": [
      "6257\n"
     ]
    }
   ],
   "source": [
    "tot = 0\n",
    "\n",
    "for i in wrong:\n",
    "    seq = dat[i]\n",
    "    arr = np.array(seq.split(','),dtype=int)\n",
    "    #print(arr)\n",
    "    weight = np.zeros(arr.size)\n",
    "    \n",
    "    for rule in rules:\n",
    "        vals = np.array(rule.split('|'),dtype=int)\n",
    "        if (vals[0] in arr) and (vals[1] in arr):\n",
    "            i0 = np.argwhere(arr==vals[0])[0]\n",
    "            i1 = np.argwhere(arr==vals[1])[0]\n",
    "            weight[i0]+=100\n",
    "            weight[i1]+=1\n",
    "    #print(arr,args)\n",
    "    arr_sorted = arr[np.argsort(weight)[::-1]]\n",
    "    #print(arr1)\n",
    "    \n",
    "    idx = int(0.5*(len(arr) - 1) )\n",
    "    tot += arr_sorted[idx]\n",
    "            \n",
    "print(tot)"
   ]
  },
  {
   "cell_type": "code",
   "execution_count": null,
   "id": "935bb963-4484-476b-934d-2d1c67e3c76c",
   "metadata": {},
   "outputs": [],
   "source": []
  },
  {
   "cell_type": "code",
   "execution_count": null,
   "id": "aaa8f147-c539-4a83-9858-dedefe089890",
   "metadata": {},
   "outputs": [],
   "source": []
  },
  {
   "cell_type": "code",
   "execution_count": null,
   "id": "db8b654b-7167-484a-bcbe-c6848f9497cb",
   "metadata": {},
   "outputs": [],
   "source": []
  },
  {
   "cell_type": "code",
   "execution_count": null,
   "id": "321716c5-0709-4c2e-8633-87525a01d304",
   "metadata": {},
   "outputs": [],
   "source": []
  },
  {
   "cell_type": "code",
   "execution_count": null,
   "id": "17803619-8637-4620-92d8-67e6e3efe5fe",
   "metadata": {},
   "outputs": [],
   "source": []
  },
  {
   "cell_type": "code",
   "execution_count": null,
   "id": "ce37677f-1f4b-4817-ab7a-ffac97ac510e",
   "metadata": {},
   "outputs": [],
   "source": []
  },
  {
   "cell_type": "code",
   "execution_count": null,
   "id": "a387ea06-55f9-4621-83d1-2603d71df03f",
   "metadata": {},
   "outputs": [],
   "source": [
    "# Importing\n",
    "\n",
    "import pandas as pd\n",
    "import re\n",
    "import numpy as np\n",
    "\n",
    "# Input\n",
    "\n",
    "with open(\"day-4/day-4-input.csv\", \"r\") as f:\n",
    "    input_file = [line.strip() for line in f.readlines() ]\n",
    "input_file = [list(line) for line in input_file]\n",
    "input_file = np.array(input_file)\n",
    "input_file_rot = np.rot90(input_file, k=1)\n",
    "input_file_tr = np.transpose(input_file)"
   ]
  }
 ],
 "metadata": {
  "kernelspec": {
   "display_name": "Python 3 (ipykernel)",
   "language": "python",
   "name": "python3"
  },
  "language_info": {
   "codemirror_mode": {
    "name": "ipython",
    "version": 3
   },
   "file_extension": ".py",
   "mimetype": "text/x-python",
   "name": "python",
   "nbconvert_exporter": "python",
   "pygments_lexer": "ipython3",
   "version": "3.9.5"
  }
 },
 "nbformat": 4,
 "nbformat_minor": 5
}
