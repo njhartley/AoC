{
 "cells": [
  {
   "cell_type": "code",
   "execution_count": 1,
   "id": "99d4eedf-7733-4979-a694-a3f47a32377d",
   "metadata": {},
   "outputs": [],
   "source": [
    "import numpy as np\n",
    "from time import time\n",
    "from tqdm import tqdm\n",
    "import itertools"
   ]
  },
  {
   "cell_type": "code",
   "execution_count": 58,
   "id": "8617d7ef-6f5e-48b2-8b19-754ad713981f",
   "metadata": {},
   "outputs": [
    {
     "name": "stdout",
     "output_type": "stream",
     "text": [
      "50 50\n"
     ]
    }
   ],
   "source": [
    "f = open(\"Day8_test.txt\")\n",
    "f = open(\"Day8.txt\")\n",
    "dat = []\n",
    "\n",
    "for line in f.readlines(): \n",
    "    dat.append(list(line.strip()))\n",
    "dat = np.array(dat)\n",
    "xmax = dat.shape[0]\n",
    "ymax = dat.shape[1]\n",
    "print(xmax,ymax)"
   ]
  },
  {
   "cell_type": "code",
   "execution_count": 44,
   "id": "2b621272-50a6-466b-b4b6-cecf408dbe6b",
   "metadata": {},
   "outputs": [
    {
     "data": {
      "text/plain": [
       "array([['.', '.', '.', '.', '.', '.', '.', '.', '.', '.', '.', '.'],\n",
       "       ['.', '.', '.', '.', '.', '.', '.', '.', '0', '.', '.', '.'],\n",
       "       ['.', '.', '.', '.', '.', '0', '.', '.', '.', '.', '.', '.'],\n",
       "       ['.', '.', '.', '.', '.', '.', '.', '0', '.', '.', '.', '.'],\n",
       "       ['.', '.', '.', '.', '0', '.', '.', '.', '.', '.', '.', '.'],\n",
       "       ['.', '.', '.', '.', '.', '.', 'A', '.', '.', '.', '.', '.'],\n",
       "       ['.', '.', '.', '.', '.', '.', '.', '.', '.', '.', '.', '.'],\n",
       "       ['.', '.', '.', '.', '.', '.', '.', '.', '.', '.', '.', '.'],\n",
       "       ['.', '.', '.', '.', '.', '.', '.', '.', 'A', '.', '.', '.'],\n",
       "       ['.', '.', '.', '.', '.', '.', '.', '.', '.', 'A', '.', '.'],\n",
       "       ['.', '.', '.', '.', '.', '.', '.', '.', '.', '.', '.', '.'],\n",
       "       ['.', '.', '.', '.', '.', '.', '.', '.', '.', '.', '.', '.']],\n",
       "      dtype='<U1')"
      ]
     },
     "execution_count": 44,
     "metadata": {},
     "output_type": "execute_result"
    }
   ],
   "source": [
    "dat"
   ]
  },
  {
   "cell_type": "markdown",
   "id": "7198defb-3547-4c93-98c8-2e795757852e",
   "metadata": {},
   "source": [
    "### Part 1"
   ]
  },
  {
   "cell_type": "code",
   "execution_count": 42,
   "id": "1fdb1e6c-2c0e-4a8b-91f2-d0c181982f44",
   "metadata": {},
   "outputs": [
    {
     "name": "stderr",
     "output_type": "stream",
     "text": [
      "100%|████████████████████████████████████████████████████████████████████████████████| 63/63 [00:00<00:00, 2324.70it/s]"
     ]
    },
    {
     "name": "stdout",
     "output_type": "stream",
     "text": [
      "398\n"
     ]
    },
    {
     "name": "stderr",
     "output_type": "stream",
     "text": [
      "\n"
     ]
    }
   ],
   "source": [
    "anodes = np.zeros((xmax,ymax))\n",
    "\n",
    "vals = np.unique(dat)\n",
    "for val in tqdm(vals):\n",
    "    if val=='.':\n",
    "        continue\n",
    "    else:\n",
    "        pos = np.argwhere(dat==val)\n",
    "        #print(val,pos)\n",
    "        \n",
    "        pairs = itertools.combinations(pos,2)\n",
    "        for pair in pairs: \n",
    "            mid1 = (2*pair[0]+pair[1])/3.\n",
    "            mid2 = (pair[0]+2*pair[1])/3.\n",
    "            \n",
    "            try:\n",
    "                anodes[mid1]+=1\n",
    "                anodes[mid2]+=1  \n",
    "            except:\n",
    "                pass\n",
    "            far1 = pair[0] - (pair[1]-pair[0])\n",
    "            far2 = pair[1] + (pair[1]-pair[0])\n",
    "            #print(pair[0],pair[1],mid1,mid2,far1,far2)\n",
    "            if far1.min()>=0 and far1.max()<xmax:\n",
    "                anodes[far1[0],far1[1]]+=1\n",
    "            if far2.min()>=0 and far2.max()<xmax:\n",
    "                anodes[far2[0],far2[1]]+=1\n",
    "\n",
    "            #print(anodes)       \n",
    "print(np.sum(anodes>0))"
   ]
  },
  {
   "cell_type": "markdown",
   "id": "aa04275f-a937-43b8-a933-986390cc163c",
   "metadata": {},
   "source": [
    "### Part 2"
   ]
  },
  {
   "cell_type": "code",
   "execution_count": 59,
   "id": "577ea5d0-2e6c-4cd6-8144-273c5a203031",
   "metadata": {},
   "outputs": [
    {
     "name": "stderr",
     "output_type": "stream",
     "text": [
      "100%|█████████████████████████████████████████████████████████████████████████████████| 63/63 [00:00<00:00, 337.12it/s]"
     ]
    },
    {
     "name": "stdout",
     "output_type": "stream",
     "text": [
      "1333\n"
     ]
    },
    {
     "name": "stderr",
     "output_type": "stream",
     "text": [
      "\n"
     ]
    }
   ],
   "source": [
    "anodes = np.zeros((xmax,ymax))\n",
    "\n",
    "vals = np.unique(dat)\n",
    "for val in tqdm(vals):\n",
    "    if val=='.':\n",
    "        continue\n",
    "    else:\n",
    "        pos = np.argwhere(dat==val)\n",
    "        #print(val,pos)\n",
    "        \n",
    "        pairs = itertools.combinations(pos,2)\n",
    "        for pair in pairs: \n",
    "            dpair = (pair[1]-pair[0])\n",
    "            nmax = int(np.max(np.abs(xmax/dpair)))\n",
    "            \n",
    "            for i in range(-nmax,nmax+1):\n",
    "                point = pair[0] + i*dpair\n",
    "                if point.min()>=0 and point.max()<xmax:\n",
    "                 anodes[point[0],point[1]]+=1\n",
    "   \n",
    "print(np.sum(anodes>0))\n",
    "# 1333 - correct"
   ]
  },
  {
   "cell_type": "raw",
   "id": "d576e3b7-b77c-4960-9bde-e1d1a894bce9",
   "metadata": {},
   "source": []
  },
  {
   "cell_type": "code",
   "execution_count": null,
   "id": "aaa8f147-c539-4a83-9858-dedefe089890",
   "metadata": {},
   "outputs": [],
   "source": []
  },
  {
   "cell_type": "code",
   "execution_count": null,
   "id": "db8b654b-7167-484a-bcbe-c6848f9497cb",
   "metadata": {},
   "outputs": [],
   "source": []
  },
  {
   "cell_type": "code",
   "execution_count": null,
   "id": "321716c5-0709-4c2e-8633-87525a01d304",
   "metadata": {},
   "outputs": [],
   "source": []
  },
  {
   "cell_type": "code",
   "execution_count": null,
   "id": "17803619-8637-4620-92d8-67e6e3efe5fe",
   "metadata": {},
   "outputs": [],
   "source": []
  },
  {
   "cell_type": "code",
   "execution_count": null,
   "id": "ce37677f-1f4b-4817-ab7a-ffac97ac510e",
   "metadata": {},
   "outputs": [],
   "source": []
  },
  {
   "cell_type": "code",
   "execution_count": null,
   "id": "a387ea06-55f9-4621-83d1-2603d71df03f",
   "metadata": {},
   "outputs": [],
   "source": [
    "# Importing\n",
    "\n",
    "import pandas as pd\n",
    "import re\n",
    "import numpy as np\n",
    "\n",
    "# Input\n",
    "\n",
    "with open(\"day-4/day-4-input.csv\", \"r\") as f:\n",
    "    input_file = [line.strip() for line in f.readlines() ]\n",
    "input_file = [list(line) for line in input_file]\n",
    "input_file = np.array(input_file)\n",
    "input_file_rot = np.rot90(input_file, k=1)\n",
    "input_file_tr = np.transpose(input_file)"
   ]
  }
 ],
 "metadata": {
  "kernelspec": {
   "display_name": "Python 3 (ipykernel)",
   "language": "python",
   "name": "python3"
  },
  "language_info": {
   "codemirror_mode": {
    "name": "ipython",
    "version": 3
   },
   "file_extension": ".py",
   "mimetype": "text/x-python",
   "name": "python",
   "nbconvert_exporter": "python",
   "pygments_lexer": "ipython3",
   "version": "3.9.5"
  }
 },
 "nbformat": 4,
 "nbformat_minor": 5
}
