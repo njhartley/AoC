{
 "cells": [
  {
   "cell_type": "code",
   "execution_count": 1,
   "id": "b260b05a-0681-4ab1-bd44-f2df528fb671",
   "metadata": {},
   "outputs": [],
   "source": [
    "import numpy as np"
   ]
  },
  {
   "cell_type": "code",
   "execution_count": 38,
   "id": "5693da8e-c1a7-4f18-95cb-c1f43eecf1b3",
   "metadata": {},
   "outputs": [],
   "source": [
    "#dat = np.loadtxt(\"Day2.txt\")\n",
    "f = open(\"Day2.txt\")\n",
    "dat = f.readlines()"
   ]
  },
  {
   "cell_type": "code",
   "execution_count": 39,
   "id": "eb452203-459f-4af5-ad9e-d57181592143",
   "metadata": {},
   "outputs": [
    {
     "name": "stdout",
     "output_type": "stream",
     "text": [
      "502\n"
     ]
    }
   ],
   "source": [
    "tot = 0\n",
    "for line in dat:\n",
    "    line_arr = np.array(line.split(),dtype=int)\n",
    "    diff = line_arr[1:] - line_arr[:-1]\n",
    "    if not((diff.max()>3) or (diff.min()<-3) or (0 in diff)):\n",
    "        tot1 = diff.sum()\n",
    "        tot2 = np.abs(diff).sum()\n",
    "        if (tot1==tot2 or tot1==-tot2):\n",
    "            #print(line_arr,diff)\n",
    "            tot += 1\n",
    "print(tot)"
   ]
  },
  {
   "cell_type": "code",
   "execution_count": 40,
   "id": "281fd3d8-fd8a-4766-a256-963349e7ccf3",
   "metadata": {},
   "outputs": [],
   "source": [
    "def test_line(arr):\n",
    "    diff = arr[1:] - arr[:-1]\n",
    "    if not((diff.max()>3) or (diff.min()<-3) or (0 in diff)):\n",
    "        tot1 = diff.sum()\n",
    "        tot2 = np.abs(diff).sum()\n",
    "        if (tot1==tot2 or tot1==-tot2):\n",
    "            return 1\n",
    "    return 0    "
   ]
  },
  {
   "cell_type": "code",
   "execution_count": 41,
   "id": "73ce6d7e-c428-419c-a9c1-52399852dc24",
   "metadata": {},
   "outputs": [
    {
     "name": "stdout",
     "output_type": "stream",
     "text": [
      "544.0\n"
     ]
    }
   ],
   "source": [
    "tot = 0\n",
    "\n",
    "for line in dat:\n",
    "    line_arr = np.array(line.split(),dtype=int)\n",
    "    outs = np.zeros(1 + line_arr.size)\n",
    "    outs[-1] = test_line(line_arr)\n",
    "    for i in range(line_arr.size):\n",
    "        #print(line_arr,np.delete(line_arr,i))\n",
    "        outs[i] = test_line(np.delete(line_arr,i))\n",
    "    tot += outs.max()\n",
    "print(tot)"
   ]
  },
  {
   "cell_type": "code",
   "execution_count": null,
   "id": "637b164e-9f4d-4dd3-bb21-074c9d0e3c99",
   "metadata": {},
   "outputs": [],
   "source": []
  }
 ],
 "metadata": {
  "kernelspec": {
   "display_name": "Python 3 (ipykernel)",
   "language": "python",
   "name": "python3"
  },
  "language_info": {
   "codemirror_mode": {
    "name": "ipython",
    "version": 3
   },
   "file_extension": ".py",
   "mimetype": "text/x-python",
   "name": "python",
   "nbconvert_exporter": "python",
   "pygments_lexer": "ipython3",
   "version": "3.9.5"
  }
 },
 "nbformat": 4,
 "nbformat_minor": 5
}
