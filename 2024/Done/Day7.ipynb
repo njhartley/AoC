{
 "cells": [
  {
   "cell_type": "code",
   "execution_count": 65,
   "id": "99d4eedf-7733-4979-a694-a3f47a32377d",
   "metadata": {},
   "outputs": [
    {
     "data": {
      "text/plain": [
       "{'divide': 'warn', 'over': 'raise', 'under': 'ignore', 'invalid': 'warn'}"
      ]
     },
     "execution_count": 65,
     "metadata": {},
     "output_type": "execute_result"
    }
   ],
   "source": [
    "import numpy as np\n",
    "from time import time\n",
    "from tqdm import tqdm\n",
    "import itertools\n",
    "np.seterr(over='warn')"
   ]
  },
  {
   "cell_type": "code",
   "execution_count": 96,
   "id": "8617d7ef-6f5e-48b2-8b19-754ad713981f",
   "metadata": {},
   "outputs": [],
   "source": [
    "f = open(\"Day7_test.txt\")\n",
    "f = open(\"Day7.txt\")\n",
    "dat = []\n",
    "\n",
    "for line in f.readlines(): \n",
    "    dat.append(line.strip())\n",
    "#dat = np.array(dat)\n",
    "#xmax = dat.shape[0]"
   ]
  },
  {
   "cell_type": "code",
   "execution_count": 89,
   "id": "2b621272-50a6-466b-b4b6-cecf408dbe6b",
   "metadata": {},
   "outputs": [],
   "source": [
    "#dat"
   ]
  },
  {
   "cell_type": "markdown",
   "id": "7198defb-3547-4c93-98c8-2e795757852e",
   "metadata": {},
   "source": [
    "### Part 1"
   ]
  },
  {
   "cell_type": "code",
   "execution_count": 77,
   "id": "1fdb1e6c-2c0e-4a8b-91f2-d0c181982f44",
   "metadata": {},
   "outputs": [
    {
     "name": "stdout",
     "output_type": "stream",
     "text": [
      "10741443549536\n"
     ]
    }
   ],
   "source": [
    "qtot = 0\n",
    "\n",
    "for line in (dat):\n",
    "    out = int(line.split(':')[0])\n",
    "    ins = np.array(line.split(':')[1].split(),dtype=int)\n",
    "    #print(out,ins)\n",
    "    mult = np.prod(ins); tot = np.sum(ins)\n",
    "    \n",
    "    # if out==mult or out==tot: ## if output is equal to sum or product, done\n",
    "    #     print(out,ins,'True, simple')\n",
    "    #     qtot += out\n",
    "    # else:\n",
    "    \n",
    "    for comb in itertools.product('AM',repeat=(ins.size-1)):\n",
    "        run_tot = float(ins[0])\n",
    "        for i,ele in enumerate(comb):\n",
    "            if ele=='A':\n",
    "                run_tot += ins[i+1]\n",
    "            else:\n",
    "                run_tot *= ins[i+1]\n",
    "        if run_tot==out:\n",
    "            #print(out,ins,'True',comb)\n",
    "            qtot += out\n",
    "            break\n",
    "\n",
    "\n",
    "print(qtot)                \n",
    "# 24468557278 - too low  \n",
    "# 24468557278\n",
    "# 10741443549536 - correct"
   ]
  },
  {
   "cell_type": "markdown",
   "id": "aa04275f-a937-43b8-a933-986390cc163c",
   "metadata": {},
   "source": [
    "### Part 2"
   ]
  },
  {
   "cell_type": "code",
   "execution_count": 98,
   "id": "577ea5d0-2e6c-4cd6-8144-273c5a203031",
   "metadata": {},
   "outputs": [
    {
     "name": "stderr",
     "output_type": "stream",
     "text": [
      "100%|████████████████████████████████████████████████████████████████████████████████| 850/850 [03:17<00:00,  4.31it/s]"
     ]
    },
    {
     "name": "stdout",
     "output_type": "stream",
     "text": [
      "500335179214836\n",
      "197.06972908973694\n"
     ]
    },
    {
     "name": "stderr",
     "output_type": "stream",
     "text": [
      "\n"
     ]
    }
   ],
   "source": [
    "qtot = 0\n",
    "start = time()\n",
    "for line in tqdm(dat):\n",
    "    out = int(line.split(':')[0])\n",
    "    ins = np.array(line.split(':')[1].split(),dtype=int)\n",
    "    #print(out,ins)\n",
    "    mult = np.prod(ins); tot = np.sum(ins)\n",
    "    \n",
    "    for comb in itertools.product('AMC',repeat=(ins.size-1)):\n",
    "        run_tot = float(ins[0])\n",
    "        for i,ele in enumerate(comb):\n",
    "            if ele=='A':\n",
    "                run_tot += ins[i+1]\n",
    "            elif ele=='M':\n",
    "                run_tot *= ins[i+1]\n",
    "            else:\n",
    "                run_tot = run_tot*10**(int(np.log10(ins[i+1])+1)) + ins[i+1]\n",
    "            ## Move to next guess if total is too high\n",
    "            if run_tot>out:\n",
    "                break\n",
    "        ## Move to next line if total is met\n",
    "        ## Doesn't matter if there are multiple solutions\n",
    "        if run_tot==out:\n",
    "            #print(out,ins,'True',comb)\n",
    "            qtot += out\n",
    "            break\n",
    "stop=time()\n",
    "\n",
    "print(qtot)    \n",
    "print(stop-start)\n",
    "\n",
    "# 500335179214836"
   ]
  },
  {
   "cell_type": "code",
   "execution_count": null,
   "id": "077457b0-16aa-4f3e-a653-99faa64e3eac",
   "metadata": {},
   "outputs": [],
   "source": []
  },
  {
   "cell_type": "code",
   "execution_count": null,
   "id": "aaa8f147-c539-4a83-9858-dedefe089890",
   "metadata": {},
   "outputs": [],
   "source": []
  },
  {
   "cell_type": "code",
   "execution_count": null,
   "id": "db8b654b-7167-484a-bcbe-c6848f9497cb",
   "metadata": {},
   "outputs": [],
   "source": []
  },
  {
   "cell_type": "code",
   "execution_count": null,
   "id": "321716c5-0709-4c2e-8633-87525a01d304",
   "metadata": {},
   "outputs": [],
   "source": []
  },
  {
   "cell_type": "code",
   "execution_count": null,
   "id": "17803619-8637-4620-92d8-67e6e3efe5fe",
   "metadata": {},
   "outputs": [],
   "source": []
  },
  {
   "cell_type": "code",
   "execution_count": null,
   "id": "ce37677f-1f4b-4817-ab7a-ffac97ac510e",
   "metadata": {},
   "outputs": [],
   "source": []
  },
  {
   "cell_type": "code",
   "execution_count": null,
   "id": "a387ea06-55f9-4621-83d1-2603d71df03f",
   "metadata": {},
   "outputs": [],
   "source": [
    "# Importing\n",
    "\n",
    "import pandas as pd\n",
    "import re\n",
    "import numpy as np\n",
    "\n",
    "# Input\n",
    "\n",
    "with open(\"day-4/day-4-input.csv\", \"r\") as f:\n",
    "    input_file = [line.strip() for line in f.readlines() ]\n",
    "input_file = [list(line) for line in input_file]\n",
    "input_file = np.array(input_file)\n",
    "input_file_rot = np.rot90(input_file, k=1)\n",
    "input_file_tr = np.transpose(input_file)"
   ]
  }
 ],
 "metadata": {
  "kernelspec": {
   "display_name": "Python 3 (ipykernel)",
   "language": "python",
   "name": "python3"
  },
  "language_info": {
   "codemirror_mode": {
    "name": "ipython",
    "version": 3
   },
   "file_extension": ".py",
   "mimetype": "text/x-python",
   "name": "python",
   "nbconvert_exporter": "python",
   "pygments_lexer": "ipython3",
   "version": "3.9.5"
  }
 },
 "nbformat": 4,
 "nbformat_minor": 5
}
