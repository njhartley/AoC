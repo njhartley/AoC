{
 "cells": [
  {
   "cell_type": "code",
   "execution_count": 1,
   "id": "2303615a-1b58-403e-b282-b391de54188b",
   "metadata": {},
   "outputs": [],
   "source": [
    "import numpy as np"
   ]
  },
  {
   "cell_type": "code",
   "execution_count": 98,
   "id": "57305da1-975c-49f7-8f5f-b9cbd45ee6dd",
   "metadata": {},
   "outputs": [],
   "source": [
    "#f = open(\"Day3_test.txt\")\n",
    "f = open(\"Day3.txt\")\n",
    "lines = f.readlines()\n",
    "# for line in data:\n",
    "#     print(line[:2])"
   ]
  },
  {
   "cell_type": "markdown",
   "id": "4bcfaf41-0510-4a49-bc80-795b1153dd86",
   "metadata": {},
   "source": [
    "## Part 1"
   ]
  },
  {
   "cell_type": "code",
   "execution_count": 133,
   "id": "c95cb99d-0a21-4341-9e3a-1e987d1a292a",
   "metadata": {},
   "outputs": [
    {
     "name": "stdout",
     "output_type": "stream",
     "text": [
      "188372936\n"
     ]
    }
   ],
   "source": [
    "# tot = 0\n",
    "\n",
    "# for data in lines:\n",
    "#     for i,char in enumerate(data):\n",
    "#         if char=='m':\n",
    "#             strng = data[i:i+15]\n",
    "#             #print(strng)\n",
    "\n",
    "#             parts = strng.split('(')\n",
    "#             if parts[0]=='mul':\n",
    "#                 nums = parts[1].split(')')\n",
    "#                 try:\n",
    "#                     n1,n2 = nums[0].split(',')\n",
    "#                     #print(strng,'  ',nums[0],'  ',int(n1),int(n2))\n",
    "#                     tot += int(n1)*int(n2)\n",
    "#                     #print(tot)\n",
    "#                 except:\n",
    "#                     pass\n",
    "                    \n",
    "# print(tot)\n",
    "\n",
    "# 33070233 - too low, only first line\n",
    "# 188997518 - too high\n",
    "# 188372936 - too high - splitting on '(' gives errors with (asb,def( "
   ]
  },
  {
   "cell_type": "code",
   "execution_count": 132,
   "id": "99703ea3-4998-4acc-a9c9-d3c858062a93",
   "metadata": {},
   "outputs": [
    {
     "name": "stdout",
     "output_type": "stream",
     "text": [
      "187833789\n"
     ]
    }
   ],
   "source": [
    "dat = lines[0]\n",
    "tot = 0\n",
    "\n",
    "for i,char in enumerate(dat):\n",
    "    if dat[i:i+3]=='mul':\n",
    "        if dat[i+3]=='(':\n",
    "            nums = dat[i+4:i+13].split(')')[0]\n",
    "            try:\n",
    "                n1,n2 = nums.split(',')\n",
    "                n1 = int(n1); n2=int(n2)\n",
    "                tot = tot + (n1*n2)\n",
    "            except:\n",
    "                pass\n",
    "                #print(nums)\n",
    "            \n",
    "print(tot)        "
   ]
  },
  {
   "cell_type": "markdown",
   "id": "ee46d256-4537-4245-a0c7-97b07f0d4a5c",
   "metadata": {},
   "source": [
    "## Part 2"
   ]
  },
  {
   "cell_type": "code",
   "execution_count": 146,
   "id": "aaaf17a8-edf0-4300-b54f-2902c93ee41a",
   "metadata": {},
   "outputs": [],
   "source": [
    "#f = open(\"Day3_test.txt\")\n",
    "f = open(\"Day3.txt\")\n",
    "lines = f.readlines()"
   ]
  },
  {
   "cell_type": "code",
   "execution_count": 147,
   "id": "acbee667-00a1-40ee-9a95-96d572e0503e",
   "metadata": {},
   "outputs": [
    {
     "name": "stdout",
     "output_type": "stream",
     "text": [
      "94455185\n"
     ]
    }
   ],
   "source": [
    "dat = lines[0]\n",
    "tot = 0\n",
    "mult = True\n",
    "\n",
    "for i,char in enumerate(dat):\n",
    "    if dat[i:i+5]==\"don't\":\n",
    "        mult = False\n",
    "    elif dat[i:i+2]==\"do\":\n",
    "        mult = True\n",
    "        \n",
    "    if mult:\n",
    "        if dat[i:i+3]=='mul':\n",
    "            if dat[i+3]=='(':\n",
    "                nums = dat[i+4:i+13].split(')')[0]\n",
    "                try:\n",
    "                    n1,n2 = nums.split(',')\n",
    "                    n1 = int(n1); n2=int(n2)\n",
    "                    tot = tot + (n1*n2)\n",
    "                except:\n",
    "                    pass\n",
    "                    #print(nums)\n",
    "            \n",
    "print(tot)  "
   ]
  },
  {
   "cell_type": "code",
   "execution_count": null,
   "id": "d4fc3002-1567-4b9d-999b-36fd8a1d3570",
   "metadata": {},
   "outputs": [],
   "source": []
  }
 ],
 "metadata": {
  "kernelspec": {
   "display_name": "Python 3 (ipykernel)",
   "language": "python",
   "name": "python3"
  },
  "language_info": {
   "codemirror_mode": {
    "name": "ipython",
    "version": 3
   },
   "file_extension": ".py",
   "mimetype": "text/x-python",
   "name": "python",
   "nbconvert_exporter": "python",
   "pygments_lexer": "ipython3",
   "version": "3.9.5"
  }
 },
 "nbformat": 4,
 "nbformat_minor": 5
}
