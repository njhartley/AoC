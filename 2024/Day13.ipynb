{
 "cells": [
  {
   "cell_type": "code",
   "execution_count": 22,
   "id": "99d4eedf-7733-4979-a694-a3f47a32377d",
   "metadata": {},
   "outputs": [],
   "source": [
    "import numpy as np\n",
    "from time import time\n",
    "from tqdm import tqdm\n",
    "import itertools\n",
    "from functools import *"
   ]
  },
  {
   "cell_type": "code",
   "execution_count": 54,
   "id": "8617d7ef-6f5e-48b2-8b19-754ad713981f",
   "metadata": {},
   "outputs": [],
   "source": [
    "f = open(\"Day13_test.txt\")\n",
    "f = open(\"Day13.txt\")\n",
    "dat = []\n",
    "\n",
    "for i,line in enumerate(f.readlines()): \n",
    "    if i%4==0:\n",
    "        l1 = line.strip().split('+')\n",
    "        xA = int(l1[1].split(',')[0])\n",
    "        yA = int(l1[2])\n",
    "    elif i%4==1:\n",
    "        l2 = line.strip().split('+')\n",
    "        xB = int(l2[1].split(',')[0])\n",
    "        yB = int(l2[2])\n",
    "    elif i%4==2:\n",
    "        l3 = line.strip().split('=')\n",
    "        xP = int(l3[1].split(',')[0])\n",
    "        yP = int(l3[2])\n",
    "        dat.append([xA,yA,xB,yB,xP,yP])\n",
    "        #print(\"Prizes %d %d\"%(xP,yP))\n",
    "    else:\n",
    "        pass\n",
    "    \n",
    "#print(dat)\n",
    "# dat = dat[0]\n",
    "# dat = np.array(dat,dtype=int)\n",
    "# dat = np.array(dat)\n",
    "    \n",
    "# xmax = dat.shape[0]\n",
    "# ymax = dat.shape[1]\n",
    "# print(xmax,ymax)"
   ]
  },
  {
   "cell_type": "markdown",
   "id": "7198defb-3547-4c93-98c8-2e795757852e",
   "metadata": {},
   "source": [
    "### Part 1"
   ]
  },
  {
   "cell_type": "code",
   "execution_count": 55,
   "id": "227ea202-52c3-4888-b6ef-bc9f2d16fc20",
   "metadata": {},
   "outputs": [
    {
     "name": "stdout",
     "output_type": "stream",
     "text": [
      "31897.0\n"
     ]
    }
   ],
   "source": [
    "tot = 0\n",
    "\n",
    "for i,line in enumerate(dat):\n",
    "    xA,yA,xB,yB,xP,yP = line\n",
    "    \n",
    "    nA = round(((yP/yB) - (xP/xB)) / ((yA/yB) - (xA/xB)),2)\n",
    "    nB = round((xP - (nA*xA))/xB,2)\n",
    "    \n",
    "    if nA.is_integer() and nB.is_integer():\n",
    "        if nA<100 and nB<100:\n",
    "            #print(i,nA,nB)\n",
    "            tot += 3*nA + nB\n",
    "print(tot)        "
   ]
  },
  {
   "cell_type": "markdown",
   "id": "aa04275f-a937-43b8-a933-986390cc163c",
   "metadata": {},
   "source": [
    "### Part 2"
   ]
  },
  {
   "cell_type": "code",
   "execution_count": 56,
   "id": "d1194c64-b9f3-457a-aaac-5cbbe5f13aa4",
   "metadata": {},
   "outputs": [
    {
     "name": "stdout",
     "output_type": "stream",
     "text": [
      "87596249540359.0\n"
     ]
    }
   ],
   "source": [
    "tot = 0\n",
    "\n",
    "for i,line in enumerate(dat):\n",
    "    xA,yA,xB,yB,xP,yP = line\n",
    "    xP += 10000000000000\n",
    "    yP += 10000000000000\n",
    "    \n",
    "    nA = round(((yP/yB) - (xP/xB)) / ((yA/yB) - (xA/xB)),2)\n",
    "    nB = round((xP - (nA*xA))/xB,2)\n",
    "    \n",
    "    if nA.is_integer() and nB.is_integer():\n",
    "        #if nA<100 and nB<100:\n",
    "        #print(i,nA,nB)\n",
    "        tot += 3*nA + nB\n",
    "print(tot)   "
   ]
  },
  {
   "cell_type": "code",
   "execution_count": null,
   "id": "fef6b8f7-9a21-4d60-ae5a-860b7d79e965",
   "metadata": {},
   "outputs": [],
   "source": []
  }
 ],
 "metadata": {
  "kernelspec": {
   "display_name": "Python 3 (ipykernel)",
   "language": "python",
   "name": "python3"
  },
  "language_info": {
   "codemirror_mode": {
    "name": "ipython",
    "version": 3
   },
   "file_extension": ".py",
   "mimetype": "text/x-python",
   "name": "python",
   "nbconvert_exporter": "python",
   "pygments_lexer": "ipython3",
   "version": "3.9.5"
  }
 },
 "nbformat": 4,
 "nbformat_minor": 5
}
