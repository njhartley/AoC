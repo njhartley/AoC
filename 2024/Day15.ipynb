{
 "cells": [
  {
   "cell_type": "code",
   "execution_count": 1,
   "id": "99d4eedf-7733-4979-a694-a3f47a32377d",
   "metadata": {},
   "outputs": [],
   "source": [
    "import numpy as np\n",
    "from time import time\n",
    "from tqdm import tqdm\n",
    "import matplotlib.pyplot as plt\n",
    "import itertools\n",
    "from functools import *"
   ]
  },
  {
   "cell_type": "code",
   "execution_count": 161,
   "id": "8617d7ef-6f5e-48b2-8b19-754ad713981f",
   "metadata": {},
   "outputs": [
    {
     "name": "stdout",
     "output_type": "stream",
     "text": [
      "10 10\n"
     ]
    }
   ],
   "source": [
    "f = open(\"Day15_test.txt\")\n",
    "#f = open(\"Day15.txt\")\n",
    "\n",
    "layout0 = []; moves = []\n",
    "dat_bool = False\n",
    "\n",
    "for line in f.readlines(): \n",
    "    if line=='\\n':\n",
    "        dat_bool = True\n",
    "        continue\n",
    "    if dat_bool:\n",
    "        moves.append(line.strip())\n",
    "    else:\n",
    "        layout0.append(list(line.strip()))\n",
    "\n",
    "#dat = dat[0]\n",
    "layout0 = np.array(layout0)\n",
    "# dat = np.array(dat)\n",
    "xmax = layout0.shape[0]\n",
    "ymax = layout0.shape[1]\n",
    "print(xmax,ymax)"
   ]
  },
  {
   "cell_type": "code",
   "execution_count": 153,
   "id": "4e2825c2-030d-4a48-bb3c-11b61ace8393",
   "metadata": {},
   "outputs": [
    {
     "name": "stdout",
     "output_type": "stream",
     "text": [
      "[['#' '#' '#' ... '#' '#' '#']\n",
      " ['#' '.' '.' ... 'O' '.' '#']\n",
      " ['#' '.' '.' ... '.' 'O' '#']\n",
      " ...\n",
      " ['#' '.' '#' ... '.' '.' '#']\n",
      " ['#' '.' '.' ... 'O' 'O' '#']\n",
      " ['#' '#' '#' ... '#' '#' '#']]\n"
     ]
    }
   ],
   "source": [
    "print(layout0)"
   ]
  },
  {
   "cell_type": "code",
   "execution_count": 155,
   "id": "5f0cc5ea-2583-48d2-b451-55a95ce6ffa0",
   "metadata": {},
   "outputs": [],
   "source": [
    "#print(moves)"
   ]
  },
  {
   "cell_type": "markdown",
   "id": "7198defb-3547-4c93-98c8-2e795757852e",
   "metadata": {},
   "source": [
    "### Part 1"
   ]
  },
  {
   "cell_type": "code",
   "execution_count": 156,
   "id": "096a614c-ae18-4e23-8bb3-8de8a39dee90",
   "metadata": {},
   "outputs": [],
   "source": [
    "pos0 = np.where(layout0=='@')\n",
    "x0 = pos0[0][0]\n",
    "y0 = pos0[1][0]\n",
    "pos0 = (x0,y0)"
   ]
  },
  {
   "cell_type": "code",
   "execution_count": 157,
   "id": "c9a1a385-fe19-46ec-ab7e-d6c15dcc259a",
   "metadata": {},
   "outputs": [],
   "source": [
    "def move_box(arr0):\n",
    "    # print(arr0)\n",
    "    limit = np.argwhere(arr0=='#')[0][0]\n",
    "    # print(limit,len(arr0))\n",
    "    arr = arr0[:limit+1]\n",
    "    where = (arr=='.')  \n",
    "    if where.sum()==0:\n",
    "        if limit<(len(arr0)-1):\n",
    "            arr_out = list(arr)+list(arr0[limit+1:])\n",
    "        else:\n",
    "            arr_out = arr\n",
    "        return arr_out\n",
    "    else:\n",
    "        arg = np.argwhere(where)[0][0]\n",
    "        if limit<(len(arr0)-1):\n",
    "            arr_out = ['.']+list(arr[:arg])+list(arr[arg+1:])+list(arr0[limit+1:])\n",
    "        else:\n",
    "            arr_out = ['.']+list(arr[:arg])+list(arr[arg+1:])\n",
    "        return arr_out"
   ]
  },
  {
   "cell_type": "code",
   "execution_count": 158,
   "id": "70433555-0819-4eba-9850-ba4dcd68215c",
   "metadata": {},
   "outputs": [],
   "source": [
    "pos = pos0   \n",
    "layout = layout0.copy()\n",
    "\n",
    "for line in moves:\n",
    "    for move in line:\n",
    "        pos0 = np.where(layout=='@')\n",
    "        x = pos0[0][0]\n",
    "        y = pos0[1][0]\n",
    "        #print(x,y,move)\n",
    "        \n",
    "        if move=='<':\n",
    "            # print(layout[x,:y+1])\n",
    "            # print(x,y,move,layout[(x,y-1)])\n",
    "            if layout[(x,y-1)]=='.':\n",
    "                layout[x,y-1]='@'\n",
    "                layout[x,y]='.'\n",
    "            elif layout[(x,y-1)]=='#':\n",
    "                continue\n",
    "            else:\n",
    "                layout[x,:y+1][::-1] = move_box(layout[x,:y+1][::-1])\n",
    "                            \n",
    "        elif move=='>':\n",
    "            # print(layout[x,y:])\n",
    "            # print(x,y,move,layout[x,y+1])\n",
    "            if layout[x,y+1]=='.':\n",
    "                layout[x,y+1]='@'\n",
    "                layout[x,y]='.'\n",
    "            elif layout[x,y+1]=='#':\n",
    "                continue\n",
    "            else:\n",
    "                layout[x,y:] = move_box(layout[x,y:])\n",
    "                \n",
    "        elif move=='v':\n",
    "            # print(layout[x:,y])\n",
    "            # print(x,y,move,layout[(x+1,y)])\n",
    "            if layout[(x+1,y)]=='.':\n",
    "                layout[x+1,y]='@'\n",
    "                layout[x,y]='.'\n",
    "            elif layout[(x+1,y)]=='#':\n",
    "                continue\n",
    "            else:\n",
    "                layout[x:,y] = move_box(layout[x:,y])\n",
    "                \n",
    "        elif move=='^':\n",
    "            # print(layout[:x+1,y])\n",
    "            # print(x,y,move,layout[(x-1,y)])\n",
    "            if layout[(x-1,y)]=='.':\n",
    "                layout[x-1,y]='@'\n",
    "                layout[x,y]='.'\n",
    "            elif layout[(x-1,y)]=='#':\n",
    "                continue\n",
    "            else:\n",
    "                layout[:x+1,y][::-1] = move_box(layout[:x+1,y][::-1])"
   ]
  },
  {
   "cell_type": "code",
   "execution_count": 160,
   "id": "5446780e-0964-4af5-a27b-96998b759f48",
   "metadata": {},
   "outputs": [
    {
     "name": "stdout",
     "output_type": "stream",
     "text": [
      "1415498\n"
     ]
    }
   ],
   "source": [
    "tot = 0\n",
    "for x in range(xmax):\n",
    "    for y in range(ymax):\n",
    "        if layout[x,y]=='O':\n",
    "            tot += 100*x + y\n",
    "print(tot)\n",
    "# 1398028 - too low\n",
    "# 1415498 - correct"
   ]
  },
  {
   "cell_type": "markdown",
   "id": "aa04275f-a937-43b8-a933-986390cc163c",
   "metadata": {},
   "source": [
    "### Part 2"
   ]
  },
  {
   "cell_type": "code",
   "execution_count": 162,
   "id": "3f246896-424e-4861-bb39-209af7d58492",
   "metadata": {},
   "outputs": [
    {
     "data": {
      "text/plain": [
       "array([['#', '#', '#', '#', '#', '#', '#', '#', '#', '#'],\n",
       "       ['#', '.', '.', 'O', '.', '.', 'O', '.', 'O', '#'],\n",
       "       ['#', '.', '.', '.', '.', '.', '.', 'O', '.', '#'],\n",
       "       ['#', '.', 'O', 'O', '.', '.', 'O', '.', 'O', '#'],\n",
       "       ['#', '.', '.', 'O', '@', '.', '.', 'O', '.', '#'],\n",
       "       ['#', 'O', '#', '.', '.', 'O', '.', '.', '.', '#'],\n",
       "       ['#', 'O', '.', '.', 'O', '.', '.', 'O', '.', '#'],\n",
       "       ['#', '.', 'O', 'O', '.', 'O', '.', 'O', 'O', '#'],\n",
       "       ['#', '.', '.', '.', '.', 'O', '.', '.', '.', '#'],\n",
       "       ['#', '#', '#', '#', '#', '#', '#', '#', '#', '#']], dtype='<U1')"
      ]
     },
     "execution_count": 162,
     "metadata": {},
     "output_type": "execute_result"
    }
   ],
   "source": [
    "layout0"
   ]
  },
  {
   "cell_type": "code",
   "execution_count": 164,
   "id": "3ecea3ef-a407-425d-b562-8e2ea5ff24cc",
   "metadata": {},
   "outputs": [
    {
     "data": {
      "text/plain": [
       "(10, 10)"
      ]
     },
     "execution_count": 164,
     "metadata": {},
     "output_type": "execute_result"
    }
   ],
   "source": [
    "layout0.shape"
   ]
  },
  {
   "cell_type": "code",
   "execution_count": 170,
   "id": "93a005f1-3170-4565-8006-6f704934d6d4",
   "metadata": {},
   "outputs": [],
   "source": [
    "layout1 = []\n",
    "for line in layout0:\n",
    "    line1 = []\n",
    "    for char in line:\n",
    "        if char == '#':\n",
    "            line1 = line1 + ['#','#']\n",
    "        elif char=='.':\n",
    "            line1 = line1 + ['.','.']\n",
    "        elif char=='O':\n",
    "            line1 = line1 + ['[',']']\n",
    "        elif char=='@':\n",
    "            line1 = line1 + ['@','.']\n",
    "    layout1.append(line1)\n",
    "layout1 = np.array(layout1)"
   ]
  },
  {
   "cell_type": "code",
   "execution_count": 172,
   "id": "2e9d198a-b6e3-47a4-a8bc-a61e5cc13a67",
   "metadata": {},
   "outputs": [],
   "source": [
    "pos0 = np.where(layout0=='@')\n",
    "x0 = pos0[0][0]\n",
    "y0 = pos0[1][0]\n",
    "pos0 = (x0,y0)"
   ]
  },
  {
   "cell_type": "code",
   "execution_count": null,
   "id": "afe44e19-ea2b-4907-a5ba-50fd97081f10",
   "metadata": {},
   "outputs": [],
   "source": []
  },
  {
   "cell_type": "code",
   "execution_count": null,
   "id": "29ef6149-4f90-495b-ae9d-b7495a8caa32",
   "metadata": {},
   "outputs": [],
   "source": []
  }
 ],
 "metadata": {
  "kernelspec": {
   "display_name": "Python 3 (ipykernel)",
   "language": "python",
   "name": "python3"
  },
  "language_info": {
   "codemirror_mode": {
    "name": "ipython",
    "version": 3
   },
   "file_extension": ".py",
   "mimetype": "text/x-python",
   "name": "python",
   "nbconvert_exporter": "python",
   "pygments_lexer": "ipython3",
   "version": "3.9.5"
  }
 },
 "nbformat": 4,
 "nbformat_minor": 5
}
