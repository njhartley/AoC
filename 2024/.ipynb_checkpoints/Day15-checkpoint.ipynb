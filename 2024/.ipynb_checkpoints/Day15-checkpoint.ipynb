{
 "cells": [
  {
   "cell_type": "code",
   "execution_count": 95,
   "id": "99d4eedf-7733-4979-a694-a3f47a32377d",
   "metadata": {},
   "outputs": [],
   "source": [
    "import numpy as np\n",
    "from time import time\n",
    "from tqdm import tqdm\n",
    "import matplotlib.pyplot as plt\n",
    "import itertools\n",
    "from functools import *"
   ]
  },
  {
   "cell_type": "code",
   "execution_count": 115,
   "id": "8617d7ef-6f5e-48b2-8b19-754ad713981f",
   "metadata": {},
   "outputs": [
    {
     "name": "stdout",
     "output_type": "stream",
     "text": [
      "10 10\n"
     ]
    }
   ],
   "source": [
    "f = open(\"Day15_test.txt\")\n",
    "#f = open(\"Day15.txt\")\n",
    "\n",
    "layout0 = []; moves = []\n",
    "dat_bool = False\n",
    "\n",
    "for line in f.readlines(): \n",
    "    if line=='\\n':\n",
    "        dat_bool = True\n",
    "        continue\n",
    "    if dat_bool:\n",
    "        moves = line.strip()\n",
    "    else:\n",
    "        layout0.append(list(line.strip()))\n",
    "\n",
    "#dat = dat[0]\n",
    "layout0 = np.array(layout0)\n",
    "# dat = np.array(dat)\n",
    "xmax = layout0.shape[0]\n",
    "ymax = layout0.shape[1]\n",
    "print(xmax,ymax)"
   ]
  },
  {
   "cell_type": "code",
   "execution_count": 117,
   "id": "4e2825c2-030d-4a48-bb3c-11b61ace8393",
   "metadata": {},
   "outputs": [
    {
     "name": "stdout",
     "output_type": "stream",
     "text": [
      "[['#' '#' '#' '#' '#' '#' '#' '#' '#' '#']\n",
      " ['#' '.' '.' 'O' '.' '.' 'O' '.' 'O' '#']\n",
      " ['#' '.' '.' '.' '.' '.' '.' 'O' '.' '#']\n",
      " ['#' '.' 'O' 'O' '.' '.' 'O' '.' 'O' '#']\n",
      " ['#' '.' '.' 'O' '@' '.' '.' 'O' '.' '#']\n",
      " ['#' 'O' '#' '.' '.' 'O' '.' '.' '.' '#']\n",
      " ['#' 'O' '.' '.' 'O' '.' '.' 'O' '.' '#']\n",
      " ['#' '.' 'O' 'O' '.' 'O' '.' 'O' 'O' '#']\n",
      " ['#' '.' '.' '.' '.' 'O' '.' '.' '.' '#']\n",
      " ['#' '#' '#' '#' '#' '#' '#' '#' '#' '#']]\n"
     ]
    }
   ],
   "source": [
    "print(layout0)"
   ]
  },
  {
   "cell_type": "code",
   "execution_count": 118,
   "id": "5f0cc5ea-2583-48d2-b451-55a95ce6ffa0",
   "metadata": {},
   "outputs": [
    {
     "name": "stdout",
     "output_type": "stream",
     "text": [
      "<vv>^<v^>v>^vv^v>v<>v^v<v<^vv<<<^><<><>>v<vvv<>^v^>^<<<><<v<<<v^vv^v>^vvv<<^>^v^^><<>>><>^<<><^vv^^<>vvv<>><^^v>^>vv<>v<<<<v<^v>^<^^>>>^<v<v><>vv>v^v^<>><>>>><^^>vv>v<^^^>>v^v^<^^>v^^>v^<^v>v<>>v^v^<v>v^^<^^vv<<<v<^>>^^^^>>>v^<>vvv^><v<<<>^^^vv^<vvv>^>v<^^^^v<>^>vvvv><>>v^<<^^^^^^><^><>>><>^^<<^^v>>><^<v>^<vv>>v>>>^v><>^v><<<<v>>v<v<v>vvv>^<><<>^><^>><>^v<><^vvv<^^<><v<<<<<><^v<<<><<<^^<v<^^^><^>>^<v^><<<^>>^v<v^v<v^>^>>^v>vv>^<<^v<>><<><<v<<v><>v<^vv<<<>^^v^>^^>>><<^v>>v^v><^^>>^<>vv^<><^^>^^^<><vvvvv^v<v<<>^v<v>v<<^><<><<><<<^^<<<^<<>><<><^^^>^^<>^>v<>^^>vv<^v^v<vv>^<><v<^v>^^^>>>^^vvv^>vvv<>>>^<^>>>>>^<<^v>^vvv<>^<><<v>v^^>>><<^^<>>^v^<v^vv<>v^<<>^<^v^v><^<<<><<^<v><v<>vv>>v><v^<vv<>v^<<^\n"
     ]
    }
   ],
   "source": [
    "print(moves)"
   ]
  },
  {
   "cell_type": "markdown",
   "id": "7198defb-3547-4c93-98c8-2e795757852e",
   "metadata": {},
   "source": [
    "### Part 1"
   ]
  },
  {
   "cell_type": "code",
   "execution_count": 119,
   "id": "096a614c-ae18-4e23-8bb3-8de8a39dee90",
   "metadata": {},
   "outputs": [],
   "source": [
    "pos0 = np.where(layout0=='@')\n",
    "x0 = pos0[0][0]\n",
    "y0 = pos0[1][0]\n",
    "pos0 = (x0,y0)"
   ]
  },
  {
   "cell_type": "code",
   "execution_count": 162,
   "id": "d7fbf808-1cba-4084-b7d0-5ef610805faf",
   "metadata": {},
   "outputs": [],
   "source": [
    "layout = layout0.copy()"
   ]
  },
  {
   "cell_type": "code",
   "execution_count": 163,
   "id": "56097166-ec05-4ed7-8a80-bf530e671cc4",
   "metadata": {},
   "outputs": [
    {
     "name": "stdout",
     "output_type": "stream",
     "text": [
      "@\n"
     ]
    }
   ],
   "source": [
    "print(layout[(x0,y0)])"
   ]
  },
  {
   "cell_type": "code",
   "execution_count": 146,
   "id": "c9a1a385-fe19-46ec-ab7e-d6c15dcc259a",
   "metadata": {},
   "outputs": [],
   "source": [
    "def move_box(arr):\n",
    "    where = (arr=='.')  \n",
    "    if where.sum()==0:\n",
    "        return arr\n",
    "    else:\n",
    "        arg = np.argwhere(where)[0][0]\n",
    "        arr_out = ['.']+list(arr[:arg])+list(arr[arg+1:])\n",
    "        return arr_out"
   ]
  },
  {
   "cell_type": "code",
   "execution_count": 160,
   "id": "70433555-0819-4eba-9850-ba4dcd68215c",
   "metadata": {},
   "outputs": [],
   "source": [
    "pos = pos0   \n",
    "\n",
    "for move in moves:\n",
    "    # x,y = pos\n",
    "    # print(move,x,y)\n",
    "    pos0 = np.where(layout0=='@')\n",
    "    x0 = pos0[0][0]\n",
    "    y0 = pos0[1][0]\n",
    "    pos0 = (x0,y0)\n",
    "    \n",
    "    if move=='<':\n",
    "        # print(layout[x,:y+1])\n",
    "        # print(x,y,move,layout[(x,y-1)])\n",
    "        if layout[(x,y-1)]=='.':\n",
    "            layout[x,y-1]='@'\n",
    "            layout[x,y]='.'\n",
    "        elif layout[(x,y-1)]=='#':\n",
    "            continue\n",
    "        else:\n",
    "            layout[x,:y][::-1] = move_box(layout[x,:y][::-1])\n",
    "                        \n",
    "    elif move=='>':\n",
    "        # print(layout[x,y:])\n",
    "        # print(x,y,move,layout[x,y+1])\n",
    "        if layout[x,y+1]=='.':\n",
    "            layout[x,y+1]='@'\n",
    "            layout[x,y]='.'\n",
    "        elif layout[x,y+1]=='#':\n",
    "            continue\n",
    "        else:\n",
    "            layout[x,y+1:] = move_box(layout[x,y+1:])\n",
    "            \n",
    "    elif move=='v':\n",
    "        # print(layout[x:,y])\n",
    "        # print(x,y,move,layout[(x+1,y)])\n",
    "        if layout[(x+1,y)]=='.':\n",
    "            layout[x+1,y]='@'\n",
    "            layout[x,y]='.'\n",
    "        elif layout[(x+1,y)]=='#':\n",
    "            continue\n",
    "        else:\n",
    "            layout[x+1:,y] = move_box(layout[x+1:,y])\n",
    "            \n",
    "    elif move=='^':\n",
    "        # print(layout[:x+1,y])\n",
    "        # print(x,y,move,layout[(x-1,y)])\n",
    "        if layout[(x-1,y)]=='.':\n",
    "            layout[x-1,y]='@'\n",
    "            layout[x,y]='.'\n",
    "        elif layout[(x-1,y)]=='#':\n",
    "            continue\n",
    "        else:\n",
    "            layout[:x,y][::-1] = move_box(layout[:x,y][::-1])"
   ]
  },
  {
   "cell_type": "code",
   "execution_count": 161,
   "id": "de34c631-c333-43f8-8640-743e5307ddb5",
   "metadata": {},
   "outputs": [
    {
     "data": {
      "text/plain": [
       "array([['#', '#', '#', '#', '#', '#', '#', '#', '#', '#'],\n",
       "       ['#', 'O', 'O', '.', '.', '.', '.', '.', 'O', '#'],\n",
       "       ['#', '.', '.', '.', '.', '.', '.', '.', '.', '#'],\n",
       "       ['#', 'O', '.', '.', '.', '.', '.', '.', '.', '#'],\n",
       "       ['#', 'O', '.', '.', '.', '.', '.', '.', 'O', '#'],\n",
       "       ['#', 'O', '#', '.', '.', '.', '.', '.', 'O', '#'],\n",
       "       ['#', 'O', '.', '.', '.', '.', '.', '.', 'O', '#'],\n",
       "       ['#', 'O', '.', '.', '.', '.', 'O', 'O', 'O', '#'],\n",
       "       ['#', 'O', 'O', 'O', 'O', 'O', '.', 'O', 'O', '#'],\n",
       "       ['#', '#', '#', '#', '#', '#', '#', '#', '#', '#']], dtype='<U1')"
      ]
     },
     "execution_count": 161,
     "metadata": {},
     "output_type": "execute_result"
    }
   ],
   "source": [
    "layout"
   ]
  },
  {
   "cell_type": "markdown",
   "id": "aa04275f-a937-43b8-a933-986390cc163c",
   "metadata": {},
   "source": [
    "### Part 2"
   ]
  },
  {
   "cell_type": "code",
   "execution_count": null,
   "id": "3f246896-424e-4861-bb39-209af7d58492",
   "metadata": {},
   "outputs": [],
   "source": []
  }
 ],
 "metadata": {
  "kernelspec": {
   "display_name": "Python 3 (ipykernel)",
   "language": "python",
   "name": "python3"
  },
  "language_info": {
   "codemirror_mode": {
    "name": "ipython",
    "version": 3
   },
   "file_extension": ".py",
   "mimetype": "text/x-python",
   "name": "python",
   "nbconvert_exporter": "python",
   "pygments_lexer": "ipython3",
   "version": "3.9.5"
  }
 },
 "nbformat": 4,
 "nbformat_minor": 5
}
