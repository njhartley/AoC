{
 "cells": [
  {
   "cell_type": "code",
   "execution_count": 62,
   "id": "99d4eedf-7733-4979-a694-a3f47a32377d",
   "metadata": {},
   "outputs": [],
   "source": [
    "import numpy as np\n",
    "from time import time\n",
    "from tqdm import tqdm\n",
    "import matplotlib.pyplot as plt\n",
    "import itertools\n",
    "from functools import *"
   ]
  },
  {
   "cell_type": "code",
   "execution_count": 54,
   "id": "8617d7ef-6f5e-48b2-8b19-754ad713981f",
   "metadata": {},
   "outputs": [],
   "source": [
    "f = open(\"Day14_test.txt\")\n",
    "f = open(\"Day14.txt\")\n",
    "dat = []\n",
    "\n",
    "for line in f.readlines(): \n",
    "    dat.append(line.strip())\n",
    "#dat = dat[0]\n",
    "#dat = np.array(dat,dtype=int)\n",
    "# dat = np.array(dat)\n",
    "# xmax = dat.shape[0]\n",
    "# ymax = dat.shape[1]\n",
    "# print(xmax,ymax)"
   ]
  },
  {
   "cell_type": "code",
   "execution_count": 55,
   "id": "4e2825c2-030d-4a48-bb3c-11b61ace8393",
   "metadata": {},
   "outputs": [
    {
     "data": {
      "text/plain": [
       "['p=32,46 v=96,-70',\n",
       " 'p=7,74 v=-14,-96',\n",
       " 'p=34,94 v=17,-18',\n",
       " 'p=41,3 v=67,78',\n",
       " 'p=6,31 v=37,11',\n",
       " 'p=66,47 v=-79,46',\n",
       " 'p=22,12 v=-57,-18',\n",
       " 'p=91,38 v=-46,46',\n",
       " 'p=77,99 v=50,-76',\n",
       " 'p=39,71 v=52,-75']"
      ]
     },
     "execution_count": 55,
     "metadata": {},
     "output_type": "execute_result"
    }
   ],
   "source": [
    "dat[:10]"
   ]
  },
  {
   "cell_type": "markdown",
   "id": "7198defb-3547-4c93-98c8-2e795757852e",
   "metadata": {},
   "source": [
    "### Part 1"
   ]
  },
  {
   "cell_type": "code",
   "execution_count": 112,
   "id": "096a614c-ae18-4e23-8bb3-8de8a39dee90",
   "metadata": {},
   "outputs": [],
   "source": [
    "xlim = 101\n",
    "ylim = 103"
   ]
  },
  {
   "cell_type": "code",
   "execution_count": 113,
   "id": "227ea202-52c3-4888-b6ef-bc9f2d16fc20",
   "metadata": {},
   "outputs": [
    {
     "data": {
      "text/plain": [
       "array([[ 32.,  46.,  96., -70.],\n",
       "       [  7.,  74., -14., -96.],\n",
       "       [ 34.,  94.,  17., -18.],\n",
       "       ...,\n",
       "       [ 24.,  42.,  -7., -85.],\n",
       "       [ 12.,  48., -57.,  46.],\n",
       "       [ 55.,  98., -18.,  36.]])"
      ]
     },
     "execution_count": 113,
     "metadata": {},
     "output_type": "execute_result"
    }
   ],
   "source": [
    "robots = np.zeros((len(dat),4))\n",
    "\n",
    "for i,line in enumerate(dat):\n",
    "    pos,vel = line.split()\n",
    "    posx = pos.split(',')[0][2:]\n",
    "    posy = pos.split(',')[1]\n",
    "    velx = vel.split(',')[0][2:]\n",
    "    vely = vel.split(',')[1]\n",
    "    robots[i,:] = ([int(posx),int(posy),int(velx),int(vely)])\n",
    "robots       "
   ]
  },
  {
   "cell_type": "code",
   "execution_count": 114,
   "id": "472bc1c1-6676-4483-b0f2-15aad17e4f5d",
   "metadata": {},
   "outputs": [],
   "source": [
    "def step(robs):\n",
    "    for l,rob in enumerate(robs):\n",
    "        robs[l,0] = (rob[0] + rob[2])%xlim\n",
    "        robs[l,1] = (rob[1] + rob[3])%ylim\n",
    "    return robs"
   ]
  },
  {
   "cell_type": "code",
   "execution_count": 115,
   "id": "503b2c7b-b63f-42be-8733-8f5de073e41d",
   "metadata": {},
   "outputs": [
    {
     "data": {
      "text/plain": [
       "array([[ 37.,  50.,  96., -70.],\n",
       "       [ 21.,  53., -14., -96.],\n",
       "       [ 17.,  45.,  17., -18.],\n",
       "       ...,\n",
       "       [ 31.,  91.,  -7., -85.],\n",
       "       [ 69.,  13., -57.,  46.],\n",
       "       [ 73.,  93., -18.,  36.]])"
      ]
     },
     "execution_count": 115,
     "metadata": {},
     "output_type": "execute_result"
    }
   ],
   "source": [
    "steps = 100\n",
    "robots0 = robots.copy()\n",
    "\n",
    "for i in range(steps):\n",
    "    robots1 = step(robots0)\n",
    "    robots0 = robots1\n",
    "robots1"
   ]
  },
  {
   "cell_type": "code",
   "execution_count": 116,
   "id": "c01b0ecd-4c33-421b-8f3b-6daca0f31006",
   "metadata": {},
   "outputs": [
    {
     "name": "stdout",
     "output_type": "stream",
     "text": [
      "229421808\n"
     ]
    }
   ],
   "source": [
    "quads = []\n",
    "for robot in robots1:\n",
    "    if robot[0]<int(0.5*(xlim-1)):\n",
    "        if robot[1]<int(0.5*(ylim-1)):\n",
    "            quads.append(1)\n",
    "        elif robot[1]>int(0.5*(ylim-1)):\n",
    "            quads.append(2)\n",
    "    elif robot[0]>int(0.5*(xlim-1)):\n",
    "        if robot[1]<int(0.5*(ylim-1)):\n",
    "            quads.append(3)\n",
    "        elif robot[1]>int(0.5*(ylim-1)):\n",
    "            quads.append(4)\n",
    "quads = np.array(quads)\n",
    "\n",
    "tot = 1\n",
    "for i in np.arange(1,5,1):\n",
    "    ct = len(np.where(quads==i)[0])\n",
    "    tot = tot*ct\n",
    "print(tot)"
   ]
  },
  {
   "cell_type": "markdown",
   "id": "aa04275f-a937-43b8-a933-986390cc163c",
   "metadata": {},
   "source": [
    "### Part 2"
   ]
  },
  {
   "cell_type": "code",
   "execution_count": 140,
   "id": "d1194c64-b9f3-457a-aaac-5cbbe5f13aa4",
   "metadata": {},
   "outputs": [
    {
     "name": "stderr",
     "output_type": "stream",
     "text": [
      "  3%|██▎                                                                       | 3142/100000 [00:02<01:06, 1452.70it/s]"
     ]
    },
    {
     "name": "stdout",
     "output_type": "stream",
     "text": [
      "3142 steps\n"
     ]
    },
    {
     "name": "stderr",
     "output_type": "stream",
     "text": [
      "\n"
     ]
    }
   ],
   "source": [
    "steps = 100000\n",
    "robots0 = robots.copy()\n",
    "\n",
    "for i in tqdm(range(steps)):\n",
    "#while True:\n",
    "    robots1 = step(robots0)\n",
    "    robots0 = robots1\n",
    "    \n",
    "    count_top = np.sum((robots1.T[0] + (ylim-robots1.T[1]))<25)\n",
    "    cou\n",
    "    if count_top<2:\n",
    "        print(\"%d steps\"%i)\n",
    "        break\n",
    "# print(np.sum(robots1.T[1]==(ylim-1)))\n",
    "# print(ylim-1)\n",
    "# print(robots1.T[1])"
   ]
  },
  {
   "cell_type": "code",
   "execution_count": 141,
   "id": "fef6b8f7-9a21-4d60-ae5a-860b7d79e965",
   "metadata": {},
   "outputs": [
    {
     "data": {
      "image/png": "[encoded data removed]",
      "text/plain": [
       "<Figure size 1000x1000 with 1 Axes>"
      ]
     },
     "metadata": {},
     "output_type": "display_data"
    }
   ],
   "source": [
    "f = plt.figure(figsize=(10,10))\n",
    "plt.hist2d(robots1.T[0],robots1.T[1],bins=(ylim+1,xlim+1))\n",
    "plt.show()"
   ]
  },
  {
   "cell_type": "code",
   "execution_count": null,
   "id": "3f246896-424e-4861-bb39-209af7d58492",
   "metadata": {},
   "outputs": [],
   "source": []
  }
 ],
 "metadata": {
  "kernelspec": {
   "display_name": "Python 3 (ipykernel)",
   "language": "python",
   "name": "python3"
  },
  "language_info": {
   "codemirror_mode": {
    "name": "ipython",
    "version": 3
   },
   "file_extension": ".py",
   "mimetype": "text/x-python",
   "name": "python",
   "nbconvert_exporter": "python",
   "pygments_lexer": "ipython3",
   "version": "3.12.1"
  }
 },
 "nbformat": 4,
 "nbformat_minor": 5
}
