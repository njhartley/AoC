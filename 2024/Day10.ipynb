{
 "cells": [
  {
   "cell_type": "code",
   "execution_count": 2,
   "id": "99d4eedf-7733-4979-a694-a3f47a32377d",
   "metadata": {},
   "outputs": [],
   "source": [
    "import numpy as np\n",
    "from time import time\n",
    "from tqdm import tqdm\n",
    "import itertools"
   ]
  },
  {
   "cell_type": "code",
   "execution_count": 179,
   "id": "8617d7ef-6f5e-48b2-8b19-754ad713981f",
   "metadata": {},
   "outputs": [],
   "source": [
    "f = open(\"Day10_test.txt\")\n",
    "f = open(\"Day10.txt\")\n",
    "dat = []\n",
    "\n",
    "for line in f.readlines(): \n",
    "    dat.append(list(line.strip()))\n",
    "dat = np.array(dat,dtype=int)\n",
    "#dat = np.array(dat[0])\n",
    "xmax = dat.shape[0]\n",
    "ymax = dat.shape[1]\n"
   ]
  },
  {
   "cell_type": "code",
   "execution_count": 180,
   "id": "2b621272-50a6-466b-b4b6-cecf408dbe6b",
   "metadata": {},
   "outputs": [
    {
     "data": {
      "text/plain": [
       "array([[9, 8, 7, ..., 6, 3, 2],\n",
       "       [8, 7, 6, ..., 7, 0, 1],\n",
       "       [9, 4, 5, ..., 6, 1, 0],\n",
       "       ...,\n",
       "       [3, 2, 1, ..., 9, 5, 2],\n",
       "       [2, 1, 0, ..., 7, 6, 1],\n",
       "       [3, 2, 6, ..., 8, 9, 0]])"
      ]
     },
     "execution_count": 180,
     "metadata": {},
     "output_type": "execute_result"
    }
   ],
   "source": [
    "dat"
   ]
  },
  {
   "cell_type": "markdown",
   "id": "7198defb-3547-4c93-98c8-2e795757852e",
   "metadata": {},
   "source": [
    "### Part 1"
   ]
  },
  {
   "cell_type": "code",
   "execution_count": 181,
   "id": "7ac8d3a3-49bc-4a9b-a42b-0b3dbe3a680a",
   "metadata": {},
   "outputs": [],
   "source": [
    "pos = np.where(dat==0)"
   ]
  },
  {
   "cell_type": "code",
   "execution_count": 182,
   "id": "418ade1d-d704-45a8-bca2-2b3401ab6886",
   "metadata": {},
   "outputs": [],
   "source": [
    "def step(xpos,ypos,val):\n",
    "    outx = list([])\n",
    "    outy = list([])  \n",
    "    \n",
    "    newx = np.clip(([xpos-1,xpos,xpos+1,xpos]),0,xmax-1)\n",
    "    newy = np.clip(([ypos,ypos-1,ypos,ypos+1]),0,ymax-1)\n",
    "    newv = np.zeros(4)\n",
    "    for i,(nx,ny) in enumerate(zip(newx,newy)):\n",
    "        newv[i] = dat[nx,ny]\n",
    "        \n",
    "    args = np.where(newv==val+1)[0]\n",
    "    if val==8:\n",
    "        # print(xpos,ypos,args,newx[args],newy[args])\n",
    "        # print(newx[args])\n",
    "        # print(newy[args])\n",
    "        return(newx[args],newy[args])\n",
    "    else:\n",
    "        for i in args:\n",
    "            out = (step(newx[i],newy[i],val+1))\n",
    "            outx = outx + list(out[0])\n",
    "            outy = outy + list(out[1])\n",
    "            # print(out[0],out[1])\n",
    "            # print(outx,outy)\n",
    "        return (outx,outy)\n",
    "            # try:\n",
    "            #     outx.append(out[0])\n",
    "            #     outy.append(out[1])\n",
    "            # except:\n",
    "            #     pass\n",
    "\n",
    "        \n",
    "        # if dat[nx,ny]==val+1:\n",
    "        #     if val==8:\n",
    "        #         return True\n",
    "        #     else:\n",
    "        #         return False\n",
    "            \n",
    "\n",
    "    "
   ]
  },
  {
   "cell_type": "code",
   "execution_count": 183,
   "id": "227ea202-52c3-4888-b6ef-bc9f2d16fc20",
   "metadata": {},
   "outputs": [
    {
     "name": "stdout",
     "output_type": "stream",
     "text": [
      "566\n",
      "1324\n"
     ]
    }
   ],
   "source": [
    "tot1 = 0\n",
    "tot2 = 0\n",
    "for (x,y) in zip(pos[0],pos[1]):\n",
    "    pos_out = []\n",
    "    #print(\"Starting at %d,%d\"%(x,y))\n",
    "    xs,ys = step(x,y,0)\n",
    "    for (x,y) in zip(xs,ys):\n",
    "        #print(x,y)\n",
    "        pos_out.append(10*x+y)\n",
    "    #print(pos_out)\n",
    "    #print(set(pos_out))\n",
    "    tot1 += (len(set(pos_out)))\n",
    "    tot2 += len(pos_out)\n",
    "print(tot1)\n",
    "print(tot2)\n",
    "    \n",
    "    "
   ]
  },
  {
   "cell_type": "code",
   "execution_count": null,
   "id": "08daab04-f6e1-4bb7-9e5f-abe959415591",
   "metadata": {},
   "outputs": [],
   "source": []
  },
  {
   "cell_type": "markdown",
   "id": "aa04275f-a937-43b8-a933-986390cc163c",
   "metadata": {},
   "source": [
    "### Part 2"
   ]
  },
  {
   "cell_type": "code",
   "execution_count": 4,
   "id": "37f0a5aa-fb7d-4c06-b5eb-d5f1a265c6c7",
   "metadata": {},
   "outputs": [],
   "source": [
    "## Create current space distribution\n",
    "idno=0\n",
    "ids = []\n",
    "\n",
    "for i,ele in enumerate(dat):\n",
    "    if i%2==0:\n",
    "        ids.append(idno)\n",
    "        idno += 1\n",
    "    else:\n",
    "        ids.append('.')"
   ]
  },
  {
   "cell_type": "code",
   "execution_count": 5,
   "id": "aaa8f147-c539-4a83-9858-dedefe089890",
   "metadata": {},
   "outputs": [],
   "source": [
    "# print(dat)\n",
    "# print(ids)"
   ]
  },
  {
   "cell_type": "code",
   "execution_count": 17,
   "id": "db8b654b-7167-484a-bcbe-c6848f9497cb",
   "metadata": {},
   "outputs": [],
   "source": [
    "dat0 = dat.copy()\n",
    "ids0 = ids.copy()\n",
    "\n",
    "# dat1 = dat.copy()\n",
    "# ids1 = ids.copy()\n",
    "\n",
    "#print(dat0)\n",
    "#print(ids0)\n",
    "\n",
    "i=0\n",
    "while i<xmax:\n",
    "    start = 1\n",
    "    #print(i)\n",
    "    for i in np.arange(start,len(dat0)):\n",
    "        #print(i)\n",
    "        if ids0[-i]!='.':\n",
    "            #print(ids0[-i],dat0[-i])\n",
    "            try:\n",
    "                ## Find space (if available)\n",
    "                arg = np.where((np.array(dat0)>=dat0[-i]) * (np.array(ids0)=='.'))[0][0]\n",
    "                if arg<(xmax-i):\n",
    "                    #print(\"Move to position %d\"%arg)\n",
    "                    ## Move data to space\n",
    "                    dat0.insert(arg,dat0[-i])\n",
    "                    ids0.insert(arg,ids0[-i])\n",
    "                    ## Remove data from original spot\n",
    "                    ids0[-i]='.'\n",
    "                    dat0[arg+1] -= dat0[-i]\n",
    "                    #print(dat0)\n",
    "                    #print(ids0)\n",
    "                    #print(\"%d/%d\"%(i,xmax))\n",
    "                    start=i+1\n",
    "                    break\n",
    "            except:\n",
    "                pass\n",
    "                #print('No move')\n",
    "    #break\n",
    "    "
   ]
  },
  {
   "cell_type": "code",
   "execution_count": 18,
   "id": "7edaddf5-dd1f-4826-b5bf-796d29ed25b7",
   "metadata": {},
   "outputs": [],
   "source": [
    "# print(dat0[:50])\n",
    "# print(ids0[:50])"
   ]
  },
  {
   "cell_type": "code",
   "execution_count": 19,
   "id": "0a0e4a3e-bab9-4467-ad27-fba11fb3170d",
   "metadata": {},
   "outputs": [],
   "source": [
    "# print(dat[:50])\n",
    "# print(ids[:50])"
   ]
  },
  {
   "cell_type": "code",
   "execution_count": 20,
   "id": "321716c5-0709-4c2e-8633-87525a01d304",
   "metadata": {},
   "outputs": [],
   "source": [
    "## Create final space distribution\n",
    "space_pt2=[]\n",
    "\n",
    "for i,(dd,ii) in enumerate(zip(dat0,ids0)):\n",
    "    space_pt2 = space_pt2 + int(dd) * [ii]"
   ]
  },
  {
   "cell_type": "code",
   "execution_count": 21,
   "id": "17803619-8637-4620-92d8-67e6e3efe5fe",
   "metadata": {},
   "outputs": [
    {
     "name": "stdout",
     "output_type": "stream",
     "text": [
      "6737276671143\n"
     ]
    }
   ],
   "source": [
    "tot_pt2 = 0\n",
    "for n,ele in enumerate(space_pt2):\n",
    "    if ele!='.':\n",
    "        tot_pt2 += n*int(ele)\n",
    "print(tot_pt2)\n",
    "# 6737276671143 - too high\n",
    "# 6511178035564"
   ]
  },
  {
   "cell_type": "markdown",
   "id": "23368f01-df00-4b41-a152-1155fa1bce1b",
   "metadata": {},
   "source": [
    "### Part 2 - cheating"
   ]
  },
  {
   "cell_type": "code",
   "execution_count": 22,
   "id": "19a3192f-fd7d-4105-bebb-26ccff2f6857",
   "metadata": {},
   "outputs": [
    {
     "name": "stdout",
     "output_type": "stream",
     "text": [
      "Result: 6511178035564\n"
     ]
    }
   ],
   "source": [
    "import re\n",
    "import itertools\n",
    "\n",
    "def find_gap_length(disk_map, start_idx):\n",
    "    gap_length = 1\n",
    "    next_digit = None\n",
    "    while next_digit is None and start_idx+gap_length <= len(disk_map)-1:\n",
    "        next_digit = disk_map[start_idx+gap_length]\n",
    "        if next_digit is None:\n",
    "            gap_length += 1\n",
    "    return gap_length\n",
    "\n",
    "with open('./Day9.txt') as f:\n",
    "    number_sequence = f.read().strip()\n",
    "\n",
    "## Generates initial disk map\n",
    "disk_map = []\n",
    "current_id = 0\n",
    "is_file = True\n",
    "for number_str in number_sequence:\n",
    "    number = int(number_str)\n",
    "    if is_file:\n",
    "        disk_map.extend([current_id] * number)\n",
    "        current_id += 1\n",
    "    else:\n",
    "        disk_map.extend([None] * number)\n",
    "    is_file = not is_file\n",
    "\n",
    "for last_number in range(max(filter(lambda x: x is not None, disk_map)), 0, -1):\n",
    "    last_number_len = disk_map.count(last_number)\n",
    "\n",
    "    gap_idx = disk_map.index(None)\n",
    "    while gap_idx < disk_map.index(last_number):\n",
    "        gap_len = find_gap_length(disk_map, gap_idx)\n",
    "        if gap_len < last_number_len:\n",
    "            gap_idx = disk_map.index(None, gap_idx+gap_len)\n",
    "        else:\n",
    "            while last_number in disk_map:\n",
    "                disk_map[disk_map.index(last_number)] = None\n",
    "            for n in range(last_number_len):\n",
    "                disk_map[gap_idx+n] = last_number            \n",
    "            break\n",
    "\n",
    "total = 0\n",
    "\n",
    "for idx, item in enumerate(disk_map):\n",
    "    if item is not None:\n",
    "        total += item * idx\n",
    "\n",
    "print(\"Result:\", total)"
   ]
  },
  {
   "cell_type": "code",
   "execution_count": null,
   "id": "6e0bf4b3-2802-4017-8369-9954d84c0290",
   "metadata": {},
   "outputs": [],
   "source": []
  },
  {
   "cell_type": "code",
   "execution_count": null,
   "id": "5ebf912c-974a-4549-a6b5-06fa6a24399b",
   "metadata": {},
   "outputs": [],
   "source": []
  },
  {
   "cell_type": "code",
   "execution_count": null,
   "id": "7d0a77c6-ebc5-4c02-b6cc-5da3ee456fd1",
   "metadata": {},
   "outputs": [],
   "source": []
  },
  {
   "cell_type": "code",
   "execution_count": null,
   "id": "a387ea06-55f9-4621-83d1-2603d71df03f",
   "metadata": {},
   "outputs": [],
   "source": [
    "# Importing\n",
    "\n",
    "import pandas as pd\n",
    "import re\n",
    "import numpy as np\n",
    "\n",
    "# Input\n",
    "\n",
    "with open(\"day-4/day-4-input.csv\", \"r\") as f:\n",
    "    input_file = [line.strip() for line in f.readlines() ]\n",
    "input_file = [list(line) for line in input_file]\n",
    "input_file = np.array(input_file)\n",
    "input_file_rot = np.rot90(input_file, k=1)\n",
    "input_file_tr = np.transpose(input_file)"
   ]
  }
 ],
 "metadata": {
  "kernelspec": {
   "display_name": "Python 3 (ipykernel)",
   "language": "python",
   "name": "python3"
  },
  "language_info": {
   "codemirror_mode": {
    "name": "ipython",
    "version": 3
   },
   "file_extension": ".py",
   "mimetype": "text/x-python",
   "name": "python",
   "nbconvert_exporter": "python",
   "pygments_lexer": "ipython3",
   "version": "3.9.5"
  }
 },
 "nbformat": 4,
 "nbformat_minor": 5
}
