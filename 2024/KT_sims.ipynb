{
 "cells": [
  {
   "cell_type": "code",
   "execution_count": 1,
   "id": "d3c28a24-1085-44af-babb-4afadb29e97b",
   "metadata": {},
   "outputs": [],
   "source": [
    "import numpy as np\n",
    "import matplotlib.pyplot as plt\n",
    "from scipy.stats import mode"
   ]
  },
  {
   "cell_type": "code",
   "execution_count": 2,
   "id": "ce5d113a-c15f-458d-8c54-a658db0859a2",
   "metadata": {},
   "outputs": [],
   "source": [
    "def nd6(n_rolls):\n",
    "    vals = np.zeros(n_rolls,dtype=int)\n",
    "    for i in range(n_rolls):\n",
    "        vals[i] = 1+int(6*np.random.rand())\n",
    "    return vals"
   ]
  },
  {
   "cell_type": "code",
   "execution_count": 8,
   "id": "b39a9454-8dd0-4dbc-ac0c-5dcaf3819a88",
   "metadata": {},
   "outputs": [],
   "source": [
    "def roll_atk(N,hit,ceaseless=False,balanced=False,lethal=6):\n",
    "    roll = nd6(N)\n",
    "    #print(roll)\n",
    "    \n",
    "    n_crits = (roll>=lethal).sum()\n",
    "    n_hits = (roll>=hit).sum() - n_crits\n",
    "\n",
    "    if balanced:\n",
    "        nbl = (roll<hit).sum()\n",
    "        if nbl>0:\n",
    "            res_bl = roll_atk(1,hit)\n",
    "            n_hits += res_bl[0]\n",
    "            n_crits += res_bl[1]            \n",
    "\n",
    "    #print(n_hits,n_crits)\n",
    "    if ceaseless:\n",
    "        cl,ncl = mode(np.array(roll[roll<hit]))\n",
    "        if ncl>0:\n",
    "            res_cl = roll_atk(ncl,hit)\n",
    "            n_hits += res_cl[0]\n",
    "            n_crits += res_cl[1]\n",
    "    n_miss = (N - n_hits - n_crits)    \n",
    "    return (n_hits,n_crits,n_miss)\n",
    "\n",
    "#roll_atk(10,4,ceaseless=True)"
   ]
  },
  {
   "cell_type": "code",
   "execution_count": 10,
   "id": "fb2aba70-177f-44e9-a89c-b494c1ddc45a",
   "metadata": {},
   "outputs": [],
   "source": [
    "def attack(N,atk,hit,dmg,cdmg,accurate=0,rending=False,ceaseless=False,balanced=False,lethal=6):\n",
    "    res = np.zeros(N)\n",
    "    for i in range(N):\n",
    "        hits = accurate; crits=0; misses=0\n",
    "        h,c,m = roll_atk(atk-accurate,hit,ceaseless=ceaseless,lethal=lethal)\n",
    "        crits += c\n",
    "        hits += h\n",
    "        misses += m\n",
    "\n",
    "        if rending:\n",
    "            if crits>0 and hits>0:\n",
    "                hits-=1; crits+=1\n",
    "        \n",
    "        res[i] = dmg*hits + cdmg*crits\n",
    "    avg = res.sum()/N\n",
    "    return avg\n",
    "#attack(10,4,3,3,4,rending=True)"
   ]
  },
  {
   "cell_type": "code",
   "execution_count": 32,
   "id": "7cf76ffb-105e-44fb-b91c-08ccf35b819b",
   "metadata": {},
   "outputs": [
    {
     "name": "stdout",
     "output_type": "stream",
     "text": [
      "8.66732\n",
      "9.12564\n",
      "11.01776\n",
      "11.62614\n"
     ]
    }
   ],
   "source": [
    "print(attack(50000,4,3,3,4))\n",
    "print(attack(50000,4,3,3,4,rending=True))\n",
    "print(attack(50000,4,3,3,4,ceaseless=True))\n",
    "print(attack(50000,4,3,3,4,ceaseless=True,rending=True))"
   ]
  },
  {
   "cell_type": "code",
   "execution_count": 18,
   "id": "66a78e80-27aa-43fa-bb74-f9ebf77eb67f",
   "metadata": {},
   "outputs": [
    {
     "name": "stdout",
     "output_type": "stream",
     "text": [
      "2.8889\n",
      "2.9029\n"
     ]
    }
   ],
   "source": [
    "print(attack(10000,1,3,3,4,ceaseless=True,rending=True,lethal=5))\n",
    "print(attack(10000,1,3,3,4,ceaseless=True,rending=True,lethal=5))"
   ]
  },
  {
   "cell_type": "code",
   "execution_count": 40,
   "id": "81879b6f-29c8-4837-a834-c6a20a4f9332",
   "metadata": {},
   "outputs": [
    {
     "name": "stdout",
     "output_type": "stream",
     "text": [
      "Dire Avenger Exarch Melee\n",
      "Diresword: 15.620\n",
      "Fists: 6.663\n",
      "Gun butts: 3.513\n",
      "Power weapon: 16.634\n"
     ]
    }
   ],
   "source": [
    "print(\"Dire Avenger Exarch Melee\")\n",
    "print(\"Diresword: %.3f\"%attack(10000,5,3,4,5,lethal=5,rending=True))\n",
    "print(\"Fists: %.3f\"%attack(10000,4,3,2,4))\n",
    "print(\"Gun butts: %.3f\"%attack(10000,3,4,2,3))\n",
    "print(\"Power weapon: %.3f\"%attack(10000,5,3,4,6,lethal=5))"
   ]
  },
  {
   "cell_type": "code",
   "execution_count": 41,
   "id": "2fef1b1a-1d88-401b-a1d5-d1d58dc61b88",
   "metadata": {},
   "outputs": [
    {
     "name": "stdout",
     "output_type": "stream",
     "text": [
      "Howling Banshee Exarch Melee\n",
      "Executioner: 16.681\n",
      "Mirror Swords: 20.706\n",
      "Power weapon: 16.521\n",
      "Triskele: 14.780\n"
     ]
    }
   ],
   "source": [
    "print(\"Howling Banshee Exarch Melee\")\n",
    "print(\"Executioner: %.3f\"%attack(10000,5,3,3,7,lethal=5))\n",
    "print(\"Mirror Swords: %.3f\"%attack(10000,5,3,4,6,lethal=5,ceaseless=True))\n",
    "print(\"Power weapon: %.3f\"%attack(10000,5,3,4,6,lethal=5))\n",
    "print(\"Triskele: %.3f\"%attack(10000,5,3,4,5,rending=True))"
   ]
  },
  {
   "cell_type": "code",
   "execution_count": 42,
   "id": "ff081666-e876-4b84-8b3c-7e91621b595b",
   "metadata": {},
   "outputs": [
    {
     "name": "stdout",
     "output_type": "stream",
     "text": [
      "Striking Scorpion Exarch Melee\n",
      "Biting Blade: 18.123\n",
      "Scorpion's Claw: 16.571\n",
      "Twin chainswords: 18.612\n"
     ]
    }
   ],
   "source": [
    "print(\"Striking Scorpion Exarch Melee\")\n",
    "print(\"Biting Blade: %.3f\"%attack(10000,5,3,5,6,rending=True))\n",
    "print(\"Scorpion's Claw: %.3f\"%attack(10000,5,3,4,6,lethal=5))\n",
    "print(\"Twin chainswords: %.3f\"%attack(10000,5,3,4,5,ceaseless=True,rending=True))"
   ]
  },
  {
   "cell_type": "code",
   "execution_count": null,
   "id": "0d5aeb08-0637-4627-8df0-83de720da2b9",
   "metadata": {},
   "outputs": [],
   "source": []
  }
 ],
 "metadata": {
  "kernelspec": {
   "display_name": "Python 3 (ipykernel)",
   "language": "python",
   "name": "python3"
  },
  "language_info": {
   "codemirror_mode": {
    "name": "ipython",
    "version": 3
   },
   "file_extension": ".py",
   "mimetype": "text/x-python",
   "name": "python",
   "nbconvert_exporter": "python",
   "pygments_lexer": "ipython3",
   "version": "3.9.5"
  }
 },
 "nbformat": 4,
 "nbformat_minor": 5
}
