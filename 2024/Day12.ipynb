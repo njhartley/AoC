{
 "cells": [
  {
   "cell_type": "code",
   "execution_count": 1,
   "id": "99d4eedf-7733-4979-a694-a3f47a32377d",
   "metadata": {},
   "outputs": [],
   "source": [
    "import numpy as np\n",
    "from time import time\n",
    "from tqdm import tqdm\n",
    "import itertools\n",
    "from functools import *"
   ]
  },
  {
   "cell_type": "code",
   "execution_count": 94,
   "id": "8617d7ef-6f5e-48b2-8b19-754ad713981f",
   "metadata": {},
   "outputs": [
    {
     "name": "stdout",
     "output_type": "stream",
     "text": [
      "140 140\n"
     ]
    }
   ],
   "source": [
    "f = open(\"Day12_test.txt\")\n",
    "f = open(\"Day12.txt\")\n",
    "dat = []\n",
    "\n",
    "for line in f.readlines(): \n",
    "    dat.append(list(line.strip()))\n",
    "#dat = dat[0]\n",
    "#dat = np.array(dat,dtype=int)\n",
    "dat = np.array(dat)\n",
    "xmax = dat.shape[0]\n",
    "ymax = dat.shape[1]\n",
    "print(xmax,ymax)"
   ]
  },
  {
   "cell_type": "code",
   "execution_count": 95,
   "id": "2b621272-50a6-466b-b4b6-cecf408dbe6b",
   "metadata": {},
   "outputs": [
    {
     "data": {
      "text/plain": [
       "array([['I', 'I', 'I', ..., 'W', 'W', 'W'],\n",
       "       ['I', 'I', 'A', ..., 'W', 'X', 'W'],\n",
       "       ['I', 'I', 'A', ..., 'X', 'X', 'W'],\n",
       "       ...,\n",
       "       ['T', 'T', 'W', ..., 'H', 'H', 'H'],\n",
       "       ['T', 'W', 'W', ..., 'H', 'H', 'H'],\n",
       "       ['T', 'T', 'T', ..., 'H', 'H', 'H']], dtype='<U1')"
      ]
     },
     "execution_count": 95,
     "metadata": {},
     "output_type": "execute_result"
    }
   ],
   "source": [
    "dat"
   ]
  },
  {
   "cell_type": "markdown",
   "id": "7198defb-3547-4c93-98c8-2e795757852e",
   "metadata": {},
   "source": [
    "### Part 1"
   ]
  },
  {
   "cell_type": "code",
   "execution_count": 96,
   "id": "06daf075-a9f2-4d5a-bcff-d506344bbebc",
   "metadata": {},
   "outputs": [],
   "source": [
    "def around(pt):\n",
    "    px,py = pt\n",
    "    return [(np.clip(0,px-1,xmax-1),y),(np.clip(0,px+1,xmax-1),y),\n",
    "                  (x,np.clip(0,py-1,ymax-1)),(x,np.clip(0,py+1,ymax-1))]"
   ]
  },
  {
   "cell_type": "code",
   "execution_count": 97,
   "id": "227ea202-52c3-4888-b6ef-bc9f2d16fc20",
   "metadata": {},
   "outputs": [
    {
     "name": "stdout",
     "output_type": "stream",
     "text": [
      "1375574\n"
     ]
    }
   ],
   "source": [
    "in_reg = np.zeros(dat.shape)  \n",
    "tot = 0\n",
    "\n",
    "for j in range(ymax):\n",
    "    for i in range(xmax):\n",
    "        if in_reg[i][j]==0:\n",
    "            ## New region\n",
    "            locs = []\n",
    "            loc = (i,j)\n",
    "            locs.append(loc)\n",
    "            in_reg[loc]=True\n",
    "            reg_type = dat[loc]\n",
    "            dn=4\n",
    "            ## Grow until there are no more spaces to take\n",
    "            while dn!=0:\n",
    "                dn=0\n",
    "                for (x,y) in locs:\n",
    "                    new_locs = around((x,y))\n",
    "                    for new in new_locs:\n",
    "                        dn=0\n",
    "                        if (dat[new]==reg_type) and (not new in locs):\n",
    "                            in_reg[new]=1\n",
    "                            locs.append(new)\n",
    "                            dn+=1\n",
    "            peri = 0\n",
    "            for (x,y) in locs:\n",
    "                if x==0:\n",
    "                    peri += 1\n",
    "                elif dat[(x-1,y)]!=reg_type:\n",
    "                    peri+=1\n",
    "                if x==(xmax-1):\n",
    "                    peri+=1\n",
    "                elif dat[(x+1,y)]!=reg_type:\n",
    "                    peri+=1\n",
    "                    \n",
    "                if y==0:\n",
    "                    peri += 1\n",
    "                elif dat[(x,y-1)]!=reg_type:\n",
    "                    peri+=1\n",
    "                if y==(ymax-1):\n",
    "                    peri+=1\n",
    "                elif dat[(x,y+1)]!=reg_type:\n",
    "                    peri+=1\n",
    "                    \n",
    "            area = len(locs)\n",
    "            #print(\"Type: %s, Area: %d, Perimeter: %d\"%(reg_type,area,peri))\n",
    "            tot += (area*peri)\n",
    "print(tot)\n",
    "\n"
   ]
  },
  {
   "cell_type": "code",
   "execution_count": 98,
   "id": "fdf35dd4-34d3-4c63-8ae8-eac70e735812",
   "metadata": {},
   "outputs": [
    {
     "data": {
      "text/plain": [
       "array([[1., 1., 1., ..., 1., 1., 1.],\n",
       "       [1., 1., 1., ..., 1., 1., 1.],\n",
       "       [1., 1., 1., ..., 1., 1., 1.],\n",
       "       ...,\n",
       "       [1., 1., 1., ..., 1., 1., 1.],\n",
       "       [1., 1., 1., ..., 1., 1., 1.],\n",
       "       [1., 1., 1., ..., 1., 1., 1.]])"
      ]
     },
     "execution_count": 98,
     "metadata": {},
     "output_type": "execute_result"
    }
   ],
   "source": [
    "in_reg"
   ]
  },
  {
   "cell_type": "markdown",
   "id": "aa04275f-a937-43b8-a933-986390cc163c",
   "metadata": {},
   "source": [
    "### Part 2"
   ]
  },
  {
   "cell_type": "code",
   "execution_count": 99,
   "id": "d1194c64-b9f3-457a-aaac-5cbbe5f13aa4",
   "metadata": {},
   "outputs": [
    {
     "data": {
      "text/plain": [
       "array([['I', 'I', 'I', ..., 'W', 'W', 'W'],\n",
       "       ['I', 'I', 'A', ..., 'W', 'X', 'W'],\n",
       "       ['I', 'I', 'A', ..., 'X', 'X', 'W'],\n",
       "       ...,\n",
       "       ['T', 'T', 'W', ..., 'H', 'H', 'H'],\n",
       "       ['T', 'W', 'W', ..., 'H', 'H', 'H'],\n",
       "       ['T', 'T', 'T', ..., 'H', 'H', 'H']], dtype='<U1')"
      ]
     },
     "execution_count": 99,
     "metadata": {},
     "output_type": "execute_result"
    }
   ],
   "source": [
    "dat"
   ]
  },
  {
   "cell_type": "code",
   "execution_count": 101,
   "id": "6e0bf4b3-2802-4017-8369-9954d84c0290",
   "metadata": {},
   "outputs": [
    {
     "name": "stdout",
     "output_type": "stream",
     "text": [
      "830566\n"
     ]
    }
   ],
   "source": [
    "in_reg = np.zeros(dat.shape)  \n",
    "tot = 0\n",
    "\n",
    "for j in range(ymax):\n",
    "    for i in range(xmax):\n",
    "        if in_reg[i][j]==0:\n",
    "            ## New region\n",
    "            locs = []\n",
    "            loc = (i,j)\n",
    "            locs.append(loc)\n",
    "            in_reg[loc]=True\n",
    "            reg_type = dat[loc]\n",
    "            dn=4\n",
    "            ## Grow until there are no more spaces to take\n",
    "            while dn!=0:\n",
    "                dn=0\n",
    "                for (x,y) in locs:\n",
    "                    new_locs = around((x,y))\n",
    "                    for new in new_locs:\n",
    "                        dn=0\n",
    "                        if (dat[new]==reg_type) and (not new in locs):\n",
    "                            in_reg[new]=1\n",
    "                            locs.append(new)\n",
    "                            dn+=1\n",
    "            ## Count number of corners  - outside edges              \n",
    "            nco = 0\n",
    "            for pt in locs:\n",
    "                x,y = pt\n",
    "                xe = 0\n",
    "                ye = 0\n",
    "\n",
    "                if x==0: xe += 1\n",
    "                elif dat[(x-1,y)]!=reg_type: xe +=1\n",
    "                if x==(xmax-1): xe+=1\n",
    "                elif dat[(x+1,y)]!=reg_type: xe+=1\n",
    "                    \n",
    "                if y==0: ye += 1\n",
    "                elif dat[(x,y-1)]!=reg_type: ye+=1\n",
    "                if y==(ymax-1): ye+=1\n",
    "                elif dat[(x,y+1)]!=reg_type: ye+=1\n",
    "                    \n",
    "                #print(x,y,xe,ye,(xe*ye))\n",
    "                nco += (xe*ye)\n",
    "            ## Count inside corners\n",
    "            for pt in locs:\n",
    "                px,py=pt\n",
    "                #print(pt)\n",
    "                if (px<xmax-1) and (py<ymax-1):\n",
    "                    val_tot1 = 1 + ((px+1,py)in locs) + ((px,py+1)in locs) + ((px+1,py+1)in locs)\n",
    "                    if val_tot1 == 3: nco+=1\n",
    "                if (px>0) and (py>0):\n",
    "                    if (not ((px-1,py-1)in locs)):\n",
    "                        val_tot2 = 1 + ((px-1,py)in locs) + ((px,py-1)in locs) + ((px-1,py-1)in locs)\n",
    "                        if val_tot2 == 3: nco+=1\n",
    "                \n",
    "                   \n",
    "            area = len(locs)\n",
    "            #print(\"Type: %s, Area: %d, Corners: %d\"%(reg_type,area,nco))\n",
    "            tot += (area*nco)\n",
    "print(tot)\n",
    "\n"
   ]
  },
  {
   "cell_type": "code",
   "execution_count": null,
   "id": "fef6b8f7-9a21-4d60-ae5a-860b7d79e965",
   "metadata": {},
   "outputs": [],
   "source": []
  }
 ],
 "metadata": {
  "kernelspec": {
   "display_name": "Python 3 (ipykernel)",
   "language": "python",
   "name": "python3"
  },
  "language_info": {
   "codemirror_mode": {
    "name": "ipython",
    "version": 3
   },
   "file_extension": ".py",
   "mimetype": "text/x-python",
   "name": "python",
   "nbconvert_exporter": "python",
   "pygments_lexer": "ipython3",
   "version": "3.9.5"
  }
 },
 "nbformat": 4,
 "nbformat_minor": 5
}
