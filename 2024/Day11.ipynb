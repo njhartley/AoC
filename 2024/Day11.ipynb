{
 "cells": [
  {
   "cell_type": "code",
   "execution_count": 2,
   "id": "99d4eedf-7733-4979-a694-a3f47a32377d",
   "metadata": {},
   "outputs": [],
   "source": [
    "import numpy as np\n",
    "from time import time\n",
    "from tqdm import tqdm\n",
    "import itertools\n",
    "from functools import *"
   ]
  },
  {
   "cell_type": "code",
   "execution_count": 3,
   "id": "8617d7ef-6f5e-48b2-8b19-754ad713981f",
   "metadata": {},
   "outputs": [],
   "source": [
    "f = open(\"Day11_test.txt\")\n",
    "f = open(\"Day11.txt\")\n",
    "dat = []\n",
    "\n",
    "for line in f.readlines(): \n",
    "    dat.append(line.strip().split())\n",
    "dat = dat[0]\n",
    "#dat = np.array(dat,dtype=int)\n",
    "#dat = np.array(dat[0])\n",
    "#xmax = dat.shape[0]\n",
    "#ymax = dat.shape[1]\n"
   ]
  },
  {
   "cell_type": "code",
   "execution_count": 4,
   "id": "2b621272-50a6-466b-b4b6-cecf408dbe6b",
   "metadata": {},
   "outputs": [
    {
     "data": {
      "text/plain": [
       "['965842', '9159', '3372473', '311', '0', '6', '86213', '48']"
      ]
     },
     "execution_count": 4,
     "metadata": {},
     "output_type": "execute_result"
    }
   ],
   "source": [
    "dat"
   ]
  },
  {
   "cell_type": "markdown",
   "id": "7198defb-3547-4c93-98c8-2e795757852e",
   "metadata": {},
   "source": [
    "### Part 1"
   ]
  },
  {
   "cell_type": "code",
   "execution_count": 5,
   "id": "227ea202-52c3-4888-b6ef-bc9f2d16fc20",
   "metadata": {},
   "outputs": [
    {
     "name": "stdout",
     "output_type": "stream",
     "text": [
      "Blink 1, 11 stones\n",
      "Blink 2, 15 stones\n",
      "Blink 3, 19 stones\n",
      "Blink 4, 32 stones\n",
      "Blink 5, 46 stones\n",
      "Blink 6, 68 stones\n",
      "Blink 7, 107 stones\n",
      "Blink 8, 162 stones\n",
      "Blink 9, 229 stones\n",
      "Blink 10, 343 stones\n",
      "Blink 11, 539 stones\n",
      "Blink 12, 806 stones\n",
      "Blink 13, 1210 stones\n",
      "Blink 14, 1829 stones\n",
      "Blink 15, 2875 stones\n",
      "Blink 16, 4259 stones\n",
      "Blink 17, 6439 stones\n",
      "Blink 18, 9912 stones\n",
      "Blink 19, 14770 stones\n",
      "Blink 20, 22636 stones\n"
     ]
    }
   ],
   "source": [
    "dat0 = dat.copy()\n",
    "#dat0 = [4]\n",
    "\n",
    "for run in range(20):  \n",
    "    dat1 = dat0.copy()\n",
    "    #print(dat1)\n",
    "    ## Perform rules\n",
    "    for i,stone in enumerate(dat0): \n",
    "        if stone=='0':\n",
    "            dat1[i] = '1'\n",
    "        elif len(str(stone))%2!=0:\n",
    "            dat1[i] = str(int(stone)*2024)\n",
    "        else:\n",
    "            leng = len(stone)//2\n",
    "            dat1[i] = str(int(stone[:leng])) + ',' + str(int(stone[leng:]))\n",
    "    #print(dat1)\n",
    "        \n",
    "    ## Make new list\n",
    "    dat0 = []\n",
    "    for ele in dat1:\n",
    "        dat0 = dat0 + ele.split(',')\n",
    "    #print(dat0)\n",
    "    print(\"Blink %d, %d stones\"%((run+1),len(dat0)))     \n",
    "    "
   ]
  },
  {
   "cell_type": "markdown",
   "id": "aa04275f-a937-43b8-a933-986390cc163c",
   "metadata": {},
   "source": [
    "### Part 2"
   ]
  },
  {
   "cell_type": "code",
   "execution_count": 6,
   "id": "6e0bf4b3-2802-4017-8369-9954d84c0290",
   "metadata": {},
   "outputs": [
    {
     "name": "stdout",
     "output_type": "stream",
     "text": [
      "Blink 15, 2875 stones\n"
     ]
    }
   ],
   "source": [
    "dat0 = dat.copy()\n",
    "\n",
    "lists = {}\n",
    "lengs = {}\n",
    "\n",
    "def blink(n,list_in):\n",
    "    list_ret = list_in.copy()\n",
    "    for run in range(n):\n",
    "        list_out = list_ret.copy()\n",
    "        for i,stone in enumerate(list_ret): \n",
    "            if stone=='0':\n",
    "                list_out[i] = '1'\n",
    "            elif len(str(stone))%2!=0:\n",
    "                list_out[i] = str(int(stone)*2024)\n",
    "            else:\n",
    "                leng = len(stone)//2\n",
    "                list_out[i] = str(int(stone[:leng])) + ',' + str(int(stone[leng:]))\n",
    "            \n",
    "        ## Make new list\n",
    "        list_ret = []\n",
    "        for ele in list_out:\n",
    "            list_ret = list_ret + ele.split(',')\n",
    "        #print(list_ret)\n",
    "    return list_ret\n",
    "\n",
    "def blink15(list_in):\n",
    "    list_out = []\n",
    "    for ele in list_in:\n",
    "        if int(ele) in lists:\n",
    "            list_out += lists[int(ele)]\n",
    "        else:\n",
    "            list15 = blink(15,[ele])\n",
    "            #print(int(ele))\n",
    "            lists[int(ele)] = list15\n",
    "            lengs[int(ele)] = len(list15)\n",
    "            list_out += list15\n",
    "    for ele in list_out:\n",
    "        if int(ele) in lists:\n",
    "            continue\n",
    "        else:\n",
    "            list15 = blink(15,[ele])\n",
    "            #print(int(ele))\n",
    "            lists[int(ele)] = list15\n",
    "            lengs[int(ele)] = len(list15)\n",
    "    return list_out\n",
    "\n",
    "n5 = 1\n",
    "for i in range(n5):\n",
    "    dat0 = blink15(dat0)\n",
    "print(\"Blink %d, %d stones\"%((n5*15),len(dat0)))   \n",
    "\n",
    "    \n",
    "#print(dat1)\n",
    "#print(dat1)\n",
    "## Perform rules\n",
    "# n = 10\n",
    "# dat1 = dat0.copy()\n",
    "# dat0 = blink(n,dat1)\n",
    "# print(\"Blink %d, %d stones\"%((n),len(dat0)))   "
   ]
  },
  {
   "cell_type": "code",
   "execution_count": 15,
   "id": "5ebf912c-974a-4549-a6b5-06fa6a24399b",
   "metadata": {},
   "outputs": [
    {
     "name": "stdout",
     "output_type": "stream",
     "text": [
      "Run 75, 218279375708592 stones\n",
      "2.043126106262207\n"
     ]
    }
   ],
   "source": [
    "tot = 0\n",
    "\n",
    "n_count = 15 ## base for recurrence\n",
    "\n",
    "@cache\n",
    "def tot(ele,n_rem):\n",
    "    list = lists[int(ele)]\n",
    "    tot_count = 0\n",
    "    \n",
    "    if n_rem == n_count:\n",
    "        for ele in list:\n",
    "            try:\n",
    "                tot_count += lengs[int(ele)]\n",
    "            except:\n",
    "                list5 = blink(n_count,[ele])\n",
    "                lists[int(ele)] = list5\n",
    "                lengs[int(ele)] = len(list5)\n",
    "                tot_count += lengs[int(ele)]\n",
    "    else:\n",
    "        for ele in list:\n",
    "            try:\n",
    "                tot_count += tot(ele,n_rem-n_count)\n",
    "            except:\n",
    "                list5 = blink(n_count,[ele])\n",
    "                lists[int(ele)] = list5\n",
    "                lengs[int(ele)] = len(list5)\n",
    "                tot_count += tot(ele,n_rem-n_count)\n",
    "    return tot_count\n",
    "\n",
    "def tot_loop(list,n_rem):\n",
    "    tot_tot = 0\n",
    "    for item in list:\n",
    "        tot_tot += tot(item,n_rem)\n",
    "    return tot_tot\n",
    "\n",
    "      \n",
    "start = time()\n",
    "count = 60\n",
    "# print(\"Run %s, %d stones\"%(count,tot(dat,count))  ) \n",
    "print(\"Run %d, %d stones\"%((count+15),tot_loop(dat,count)))\n",
    "stop=time()\n",
    "print(stop-start)"
   ]
  },
  {
   "cell_type": "code",
   "execution_count": 7,
   "id": "7d0a77c6-ebc5-4c02-b6cc-5da3ee456fd1",
   "metadata": {},
   "outputs": [],
   "source": [
    "# 15 - 2875\n",
    "# 30 - 1478690 - 0.0009999\n",
    "# 45 - 780851063 - 0.2317\n",
    "# 60 - 412954991320 - 112.2897\n",
    "# 75 - 218279375708592 - 2.043126 (with @cache) "
   ]
  },
  {
   "cell_type": "code",
   "execution_count": null,
   "id": "fef6b8f7-9a21-4d60-ae5a-860b7d79e965",
   "metadata": {},
   "outputs": [],
   "source": []
  }
 ],
 "metadata": {
  "kernelspec": {
   "display_name": "Python 3 (ipykernel)",
   "language": "python",
   "name": "python3"
  },
  "language_info": {
   "codemirror_mode": {
    "name": "ipython",
    "version": 3
   },
   "file_extension": ".py",
   "mimetype": "text/x-python",
   "name": "python",
   "nbconvert_exporter": "python",
   "pygments_lexer": "ipython3",
   "version": "3.9.5"
  }
 },
 "nbformat": 4,
 "nbformat_minor": 5
}
